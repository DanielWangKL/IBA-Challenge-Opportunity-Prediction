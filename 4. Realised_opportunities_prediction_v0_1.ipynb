{
  "nbformat": 4,
  "nbformat_minor": 0,
  "metadata": {
    "colab": {
      "name": "Realised_opportunities_prediction_v0.1.ipynb",
      "provenance": [],
      "collapsed_sections": []
    },
    "kernelspec": {
      "name": "python3",
      "display_name": "Python 3"
    },
    "accelerator": "GPU"
  },
  "cells": [
    {
      "cell_type": "markdown",
      "metadata": {
        "id": "ngr14gjJKKAU"
      },
      "source": [
        "\n",
        "\n",
        "# **1.   Configuration**\n",
        "\n"
      ]
    },
    {
      "cell_type": "code",
      "metadata": {
        "id": "3LlSUC1Iy7VJ",
        "outputId": "1fbcf3b3-cf9e-43b7-a523-d39eebe6b6a4",
        "colab": {
          "base_uri": "https://localhost:8080/",
          "height": 34
        }
      },
      "source": [
        "from google.colab import drive\n",
        "drive.mount('/content/gdrive')"
      ],
      "execution_count": null,
      "outputs": [
        {
          "output_type": "stream",
          "text": [
            "Mounted at /content/gdrive\n"
          ],
          "name": "stdout"
        }
      ]
    },
    {
      "cell_type": "code",
      "metadata": {
        "id": "9c4VDg-Jyw4u"
      },
      "source": [
        "import numpy\n",
        "from keras.datasets import mnist\n",
        "from keras.models import Sequential\n",
        "from keras.layers import Dense\n",
        "from keras.layers import Dropout\n",
        "from keras import regularizers\n",
        "from keras.utils import np_utils\n",
        "import pandas as pd\n",
        "from sklearn.preprocessing import LabelEncoder\n",
        "from sklearn.model_selection import train_test_split\n",
        "from sklearn.preprocessing import MinMaxScaler\n",
        "import seaborn as sns\n",
        "import matplotlib.pyplot as plt\n",
        "import numpy as np\n",
        "\n",
        "from keras.wrappers.scikit_learn import KerasClassifier\n",
        "from sklearn.model_selection import GridSearchCV\n",
        "\n",
        "from sklearn.metrics import plot_confusion_matrix\n",
        "from sklearn.metrics import roc_curve, auc\n",
        "from sklearn.metrics import roc_auc_score\n",
        "from sklearn.metrics import confusion_matrix\n",
        "from sklearn.metrics import average_precision_score\n",
        "from sklearn.model_selection import cross_val_score\n",
        "from sklearn.metrics import classification_report\n",
        "\n",
        "# fix random seed for reproducibility\n",
        "seed = 7\n",
        "numpy.random.seed(seed)\n",
        "\n",
        "# load data\n",
        "opportunities = pd.read_csv('/content/gdrive/My Drive/HKUST_Fintech_Course_Data/opportunities_table_for_prediction_v3.csv', engine='python')\n",
        "opportunities = opportunities.iloc[:,2:]"
      ],
      "execution_count": 12,
      "outputs": []
    },
    {
      "cell_type": "code",
      "metadata": {
        "id": "qD9az59XsP_F"
      },
      "source": [
        "#reverse engineer the country mapping table\n",
        "#opportunities[['name_entity', 'Region']].groupby(['name_entity', 'Region']).size().to_csv('/content/gdrive/My Drive/HKUST_Fintech_Course_Data/countries_mapping.csv')"
      ],
      "execution_count": null,
      "outputs": []
    },
    {
      "cell_type": "markdown",
      "metadata": {
        "id": "RY0h-DmVKnh2"
      },
      "source": [
        "# **2. Data Profiling**"
      ]
    },
    {
      "cell_type": "markdown",
      "metadata": {
        "id": "4y5w9oMDUIXH"
      },
      "source": [
        "##### **2.1 Data Profiling - Overall Data**"
      ]
    },
    {
      "cell_type": "code",
      "metadata": {
        "id": "SITJQn0yKZns",
        "outputId": "e5a30411-f979-4296-cde4-1b8806d5ffc2",
        "colab": {
          "base_uri": "https://localhost:8080/",
          "height": 714
        }
      },
      "source": [
        "##Quick overview of the data\n",
        "opportunities.info()"
      ],
      "execution_count": null,
      "outputs": [
        {
          "output_type": "stream",
          "text": [
            "<class 'pandas.core.frame.DataFrame'>\n",
            "RangeIndex: 381484 entries, 0 to 381483\n",
            "Data columns (total 34 columns):\n",
            " #   Column                          Non-Null Count   Dtype  \n",
            "---  ------                          --------------   -----  \n",
            " 0   opportunity_id                  381484 non-null  int64  \n",
            " 1   created_at                      381484 non-null  object \n",
            " 2   applications_close_date         90789 non-null   object \n",
            " 3   openings                        381484 non-null  int64  \n",
            " 4   earliest_start_date             381484 non-null  object \n",
            " 5   latest_end_date                 381458 non-null  object \n",
            " 6   duration_min                    381484 non-null  int64  \n",
            " 7   programme_id                    381484 non-null  object \n",
            " 8   name_region                     381484 non-null  object \n",
            " 9   name_entity                     381484 non-null  object \n",
            " 10  favourites_count                381484 non-null  int64  \n",
            " 11  opportunity_applications_count  381484 non-null  int64  \n",
            " 12  status                          381484 non-null  object \n",
            " 13  month_created                   381484 non-null  object \n",
            " 14  year_created                    381484 non-null  object \n",
            " 15  background_p_count              381484 non-null  int64  \n",
            " 16  skill_r_count                   381484 non-null  int64  \n",
            " 17  skill_p_count                   381484 non-null  int64  \n",
            " 18  language_r_count                381484 non-null  int64  \n",
            " 19  language_p_count                381484 non-null  int64  \n",
            " 20  new_status                      153880 non-null  object \n",
            " 21  realized                        381484 non-null  bool   \n",
            " 22  created_month                   381484 non-null  int64  \n",
            " 23  open_window                     381484 non-null  float64\n",
            " 24  flexibility                     381484 non-null  float64\n",
            " 25  start_month                     381484 non-null  int64  \n",
            " 26  Region                          381484 non-null  object \n",
            " 27  Arts                            381484 non-null  float64\n",
            " 28  Business                        381484 non-null  float64\n",
            " 29  Engineering                     381484 non-null  float64\n",
            " 30  Humanity                        381484 non-null  float64\n",
            " 31  Other                           381484 non-null  float64\n",
            " 32  Politics                        381484 non-null  float64\n",
            " 33  Science                         381484 non-null  float64\n",
            "dtypes: bool(1), float64(9), int64(12), object(12)\n",
            "memory usage: 96.4+ MB\n"
          ],
          "name": "stdout"
        }
      ]
    },
    {
      "cell_type": "code",
      "metadata": {
        "id": "toB1AVTuoSGK",
        "outputId": "9406bff8-7c3a-4f22-ca53-1695dc628795",
        "colab": {
          "base_uri": "https://localhost:8080/",
          "height": 1000
        }
      },
      "source": [
        "##Evaluate the columns which should be numeric but object\n",
        "columns_object = opportunities.select_dtypes(include='object').columns\n",
        "\n",
        "#show the unique values of each column\n",
        "for i in columns_object:\n",
        "    print(i,' has unique values of ',opportunities[i].astype('str').unique())"
      ],
      "execution_count": null,
      "outputs": [
        {
          "output_type": "stream",
          "text": [
            "created_at  has unique values of  ['2014-11-05' '2014-11-17' '2015-01-05' ... '2017-12-29' '2017-12-30'\n",
            " '2017-12-31']\n",
            "applications_close_date  has unique values of  ['2015-03-30' '2015-06-15' '2015-01-01' ... '2019-02-27' '2018-10-24'\n",
            " '2019-07-01']\n",
            "earliest_start_date  has unique values of  ['2015-02-01' '2014-12-15' '2014-11-17' ... '2018-03-21' '2019-03-25'\n",
            " '2019-07-16']\n",
            "latest_end_date  has unique values of  ['2015-07-31' '2015-06-15' '2015-11-17' ... '2020-05-28' '2020-05-30'\n",
            " '2019-09-05']\n",
            "programme_id  has unique values of  ['Global Talent' 'Global Volunteer' 'Global Entrepreneur']\n",
            "name_region  has unique values of  ['Americas' 'Asia Pacific' 'AIESEC INTERNATIONAL' 'Europe'\n",
            " 'Middle East and Africa']\n",
            "name_entity  has unique values of  ['Peru' 'India' 'Asia Pacific' 'Costa Rica' 'Brazil' 'Paraguay' 'Poland'\n",
            " 'Greece' 'Middle East and Africa' 'Egypt' 'Argentina' 'Romania' 'Germany'\n",
            " 'Chile' 'Mexico' 'Colombia' 'Russia' 'Malta' 'Singapore' 'Italy'\n",
            " 'Thailand' 'Panama' 'South Korea' 'Hong Kong' 'China, Mainland'\n",
            " 'Philippines' 'Indonesia' 'Portugal' 'Botswana' 'Uganda' 'Hungary'\n",
            " 'Ghana' 'Tunisia' 'Bulgaria' 'Sri Lanka' 'Americas' 'Czech Republic'\n",
            " 'Ecuador' 'United States' 'Guatemala' 'Canada' 'Turkey' 'Cameroon'\n",
            " 'Pakistan' 'Malaysia' 'Japan' 'Mauritius' 'Montenegro' 'Ukraine' 'Serbia'\n",
            " 'Slovakia' 'El Salvador' 'Europe' 'Iran' 'Morocco' 'The Netherlands'\n",
            " 'Norway' 'Spain' 'Taiwan' 'Lithuania' 'South Africa' 'Venezuela'\n",
            " 'Vietnam' 'Burkina Faso' 'Nigeria' 'Nepal' 'Kazakhstan' 'Georgia'\n",
            " 'Bahrain' 'Namibia' 'Cambodia' 'Australia' 'Rwanda' 'Denmark' 'Slovenia'\n",
            " 'Switzerland' 'Croatia' 'Gabon' 'Lebanon' 'Belgium' 'Bolivia'\n",
            " 'United Kingdom' 'Benin' 'France' 'Finland' 'Ethiopia' 'Uruguay'\n",
            " 'Tanzania' 'Mozambique' 'Moldova' 'Ireland' 'Sweden' 'Oman' 'Algeria'\n",
            " 'Myanmar' 'Austria' 'Senegal' 'New Zealand' 'Kyrgyzstan' 'Afghanistan'\n",
            " 'Kenya' 'Dominican Republic' 'Azerbaijan' \"Cote D'Ivoire\" 'Albania'\n",
            " 'Togo' 'Liberia' 'Estonia' 'Armenia' 'Macedonia' 'Bosnia and Herzegovina'\n",
            " 'Mongolia' 'Jordan' 'Cabo Verde' 'Tajikistan' 'Nicaragua' 'Belarus'\n",
            " 'United Arab Emirates' 'Latvia' 'Laos' 'Puerto Rico' 'Iceland' 'Qatar'\n",
            " 'Kuwait' 'Malawi' 'Seychelles' 'Bangladesh' 'Liechtenstein' 'Haiti']\n",
            "status  has unique values of  ['open' 'removed']\n",
            "month_created  has unique values of  ['2014-11-01' '2015-01-01' '2014-12-01' '2015-07-01' '2015-02-01'\n",
            " '2015-03-01' '2014-08-01' '2015-04-01' '2014-10-01' '2014-05-01'\n",
            " '2014-09-01' '2014-04-01' '2015-05-01' '2015-06-01' '2015-11-01'\n",
            " '2015-09-01' '2014-01-01' '2014-07-01' '2014-03-01' '2014-02-01'\n",
            " '2013-10-01' '2014-06-01' '2013-11-01' '2013-12-01' '2013-08-01'\n",
            " '2013-09-01' '2013-04-01' '2013-02-01' '2013-01-01' '2013-07-01'\n",
            " '2012-11-01' '2013-06-01' '2011-08-01' '2013-05-01' '2013-03-01'\n",
            " '2012-12-01' '2012-10-01' '2012-09-01' '2012-08-01' '2012-07-01'\n",
            " '2012-06-01' '2012-05-01' '2012-04-01' '2012-03-01' '2012-02-01'\n",
            " '2012-01-01' '2011-12-01' '2011-11-01' '2011-10-01' '2011-07-01'\n",
            " '2011-05-01' '2011-09-01' '2011-02-01' '2011-01-01' '2010-11-01'\n",
            " '2010-10-01' '2011-03-01' '2010-08-01' '2010-06-01' '2010-07-01'\n",
            " '2010-04-01' '2010-01-01' '2009-12-01' '2009-11-01' '2009-10-01'\n",
            " '2009-09-01' '2009-06-01' '2009-04-01' '2004-08-01' '2008-03-01'\n",
            " '2011-04-01' '2011-06-01' '2010-12-01' '2010-09-01' '2010-05-01'\n",
            " '2010-02-01' '2010-03-01' '2009-07-01' '2009-05-01' '2009-03-01'\n",
            " '2009-08-01' '2008-12-01' '2008-11-01' '2009-02-01' '2008-07-01'\n",
            " '2008-04-01' '2009-01-01' '2004-05-01' '2003-05-01' '2002-05-01'\n",
            " '2001-05-01' '2016-10-01' '2016-04-01' '2007-04-01' '2006-04-01'\n",
            " '2005-04-01' '2004-04-01' '2003-04-01' '2002-04-01' '2008-06-01'\n",
            " '2001-04-01' '2008-10-01' '2016-03-01' '2007-03-01' '2006-03-01'\n",
            " '2005-03-01' '2004-03-01' '2003-03-01' '2002-03-01' '2001-03-01'\n",
            " '2016-02-01' '2008-02-01' '2007-02-01' '2006-02-01' '2005-02-01'\n",
            " '2004-02-01' '2003-02-01' '2002-02-01' '2008-09-01' '2001-02-01'\n",
            " '2016-01-01' '2008-01-01' '2007-01-01' '2006-01-01' '2005-01-01'\n",
            " '2004-01-01' '2003-01-01' '2002-01-01' '2001-01-01' '2008-08-01'\n",
            " '2007-08-01' '2006-08-01' '2003-08-01' '2002-08-01' '2001-08-01'\n",
            " '2015-12-01' '2007-12-01' '2006-12-01' '2005-12-01' '2004-12-01'\n",
            " '2003-12-01' '2002-12-01' '2001-12-01' '2016-11-01' '2007-10-01'\n",
            " '2007-11-01' '2006-11-01' '2005-11-01' '2004-11-01' '2003-11-01'\n",
            " '2002-11-01' '2001-11-01' '2015-08-01' '2015-10-01' '2006-10-01'\n",
            " '2005-10-01' '2004-10-01' '2003-10-01' '2002-10-01' '2001-10-01'\n",
            " '2016-09-01' '2007-09-01' '2006-09-01' '2005-09-01' '2004-09-01'\n",
            " '2003-09-01' '2002-09-01' '2001-09-01' '2016-08-01' '2005-08-01'\n",
            " '2008-05-01' '2016-07-01' '2007-07-01' '2006-07-01' '2005-07-01'\n",
            " '2004-07-01' '2003-07-01' '2002-07-01' '2001-07-01' '2016-06-01'\n",
            " '2007-06-01' '2006-06-01' '2005-06-01' '2004-06-01' '2003-06-01'\n",
            " '2002-06-01' '2001-06-01' '2016-05-01' '2007-05-01' '2006-05-01'\n",
            " '2005-05-01' '2016-12-01' '2017-01-01' '2017-02-01' '2017-03-01'\n",
            " '2017-04-01' '2017-05-01' '2017-06-01' '2017-07-01' '2017-08-01'\n",
            " '2017-09-01' '2017-10-01' '2017-11-01' '2017-12-01']\n",
            "year_created  has unique values of  ['2014-01-01' '2015-01-01' '2013-01-01' '2012-01-01' '2011-01-01'\n",
            " '2010-01-01' '2009-01-01' '2004-01-01' '2008-01-01' '2003-01-01'\n",
            " '2002-01-01' '2001-01-01' '2016-01-01' '2007-01-01' '2006-01-01'\n",
            " '2005-01-01' '2017-01-01']\n",
            "new_status  has unique values of  ['realized' 'nan']\n",
            "Region  has unique values of  ['South America' 'South-central Asia' 'Asia Pacific' 'Central America'\n",
            " 'Eastern Europe' 'Southern Europe' 'Middle East and Africa'\n",
            " 'Northern Africa' 'Western Europe' 'South-eastern Asia' 'Eastern Asia'\n",
            " 'Southern Africa' 'Eastern Africa' 'Western Africa' 'Northern America'\n",
            " 'Western Asia' 'Middle Africa' 'Europe' 'Northern Europe' 'Central Asia'\n",
            " 'Australia and New Zealand' 'Caribbean']\n"
          ],
          "name": "stdout"
        }
      ]
    },
    {
      "cell_type": "code",
      "metadata": {
        "id": "xtRjD2kITy1I",
        "outputId": "80cbf3df-fd8c-4b93-bcad-9e8953a12cae",
        "colab": {
          "base_uri": "https://localhost:8080/",
          "height": 326
        }
      },
      "source": [
        "##Quick overview of the actual data\n",
        "opportunities.head()"
      ],
      "execution_count": null,
      "outputs": [
        {
          "output_type": "execute_result",
          "data": {
            "text/html": [
              "<div>\n",
              "<style scoped>\n",
              "    .dataframe tbody tr th:only-of-type {\n",
              "        vertical-align: middle;\n",
              "    }\n",
              "\n",
              "    .dataframe tbody tr th {\n",
              "        vertical-align: top;\n",
              "    }\n",
              "\n",
              "    .dataframe thead th {\n",
              "        text-align: right;\n",
              "    }\n",
              "</style>\n",
              "<table border=\"1\" class=\"dataframe\">\n",
              "  <thead>\n",
              "    <tr style=\"text-align: right;\">\n",
              "      <th></th>\n",
              "      <th>opportunity_id</th>\n",
              "      <th>created_at</th>\n",
              "      <th>applications_close_date</th>\n",
              "      <th>openings</th>\n",
              "      <th>earliest_start_date</th>\n",
              "      <th>latest_end_date</th>\n",
              "      <th>duration_min</th>\n",
              "      <th>programme_id</th>\n",
              "      <th>name_region</th>\n",
              "      <th>name_entity</th>\n",
              "      <th>favourites_count</th>\n",
              "      <th>opportunity_applications_count</th>\n",
              "      <th>status</th>\n",
              "      <th>month_created</th>\n",
              "      <th>year_created</th>\n",
              "      <th>background_p_count</th>\n",
              "      <th>skill_r_count</th>\n",
              "      <th>skill_p_count</th>\n",
              "      <th>language_r_count</th>\n",
              "      <th>language_p_count</th>\n",
              "      <th>new_status</th>\n",
              "      <th>realized</th>\n",
              "      <th>created_month</th>\n",
              "      <th>open_window</th>\n",
              "      <th>flexibility</th>\n",
              "      <th>start_month</th>\n",
              "      <th>Region</th>\n",
              "      <th>Arts</th>\n",
              "      <th>Business</th>\n",
              "      <th>Engineering</th>\n",
              "      <th>Humanity</th>\n",
              "      <th>Other</th>\n",
              "      <th>Politics</th>\n",
              "      <th>Science</th>\n",
              "    </tr>\n",
              "  </thead>\n",
              "  <tbody>\n",
              "    <tr>\n",
              "      <th>0</th>\n",
              "      <td>290499</td>\n",
              "      <td>2014-11-05</td>\n",
              "      <td>2015-03-30</td>\n",
              "      <td>1</td>\n",
              "      <td>2015-02-01</td>\n",
              "      <td>2015-07-31</td>\n",
              "      <td>20</td>\n",
              "      <td>Global Talent</td>\n",
              "      <td>Americas</td>\n",
              "      <td>Peru</td>\n",
              "      <td>0</td>\n",
              "      <td>3</td>\n",
              "      <td>open</td>\n",
              "      <td>2014-11-01</td>\n",
              "      <td>2014-01-01</td>\n",
              "      <td>0</td>\n",
              "      <td>4</td>\n",
              "      <td>3</td>\n",
              "      <td>2</td>\n",
              "      <td>0</td>\n",
              "      <td>realized</td>\n",
              "      <td>1</td>\n",
              "      <td>11</td>\n",
              "      <td>145.0</td>\n",
              "      <td>180.0</td>\n",
              "      <td>2</td>\n",
              "      <td>South America</td>\n",
              "      <td>1.0</td>\n",
              "      <td>0.0</td>\n",
              "      <td>0.0</td>\n",
              "      <td>0.0</td>\n",
              "      <td>0.0</td>\n",
              "      <td>0.0</td>\n",
              "      <td>0.0</td>\n",
              "    </tr>\n",
              "    <tr>\n",
              "      <th>1</th>\n",
              "      <td>290500</td>\n",
              "      <td>2014-11-05</td>\n",
              "      <td>2015-06-15</td>\n",
              "      <td>1</td>\n",
              "      <td>2014-12-15</td>\n",
              "      <td>2015-06-15</td>\n",
              "      <td>20</td>\n",
              "      <td>Global Talent</td>\n",
              "      <td>Asia Pacific</td>\n",
              "      <td>India</td>\n",
              "      <td>0</td>\n",
              "      <td>4</td>\n",
              "      <td>open</td>\n",
              "      <td>2014-11-01</td>\n",
              "      <td>2014-01-01</td>\n",
              "      <td>1</td>\n",
              "      <td>7</td>\n",
              "      <td>1</td>\n",
              "      <td>1</td>\n",
              "      <td>0</td>\n",
              "      <td>realized</td>\n",
              "      <td>1</td>\n",
              "      <td>11</td>\n",
              "      <td>222.0</td>\n",
              "      <td>182.0</td>\n",
              "      <td>12</td>\n",
              "      <td>South-central Asia</td>\n",
              "      <td>0.0</td>\n",
              "      <td>1.0</td>\n",
              "      <td>0.0</td>\n",
              "      <td>0.0</td>\n",
              "      <td>0.0</td>\n",
              "      <td>0.0</td>\n",
              "      <td>0.0</td>\n",
              "    </tr>\n",
              "    <tr>\n",
              "      <th>2</th>\n",
              "      <td>290502</td>\n",
              "      <td>2014-11-17</td>\n",
              "      <td>2015-01-01</td>\n",
              "      <td>1</td>\n",
              "      <td>2014-11-17</td>\n",
              "      <td>2015-11-17</td>\n",
              "      <td>50</td>\n",
              "      <td>Global Talent</td>\n",
              "      <td>AIESEC INTERNATIONAL</td>\n",
              "      <td>Asia Pacific</td>\n",
              "      <td>0</td>\n",
              "      <td>4</td>\n",
              "      <td>open</td>\n",
              "      <td>2014-11-01</td>\n",
              "      <td>2014-01-01</td>\n",
              "      <td>0</td>\n",
              "      <td>5</td>\n",
              "      <td>3</td>\n",
              "      <td>1</td>\n",
              "      <td>0</td>\n",
              "      <td>NaN</td>\n",
              "      <td>0</td>\n",
              "      <td>11</td>\n",
              "      <td>45.0</td>\n",
              "      <td>365.0</td>\n",
              "      <td>11</td>\n",
              "      <td>Asia Pacific</td>\n",
              "      <td>0.0</td>\n",
              "      <td>0.0</td>\n",
              "      <td>1.0</td>\n",
              "      <td>0.0</td>\n",
              "      <td>0.0</td>\n",
              "      <td>0.0</td>\n",
              "      <td>0.0</td>\n",
              "    </tr>\n",
              "    <tr>\n",
              "      <th>3</th>\n",
              "      <td>290503</td>\n",
              "      <td>2014-11-05</td>\n",
              "      <td>2014-12-31</td>\n",
              "      <td>1</td>\n",
              "      <td>2015-01-01</td>\n",
              "      <td>2015-07-31</td>\n",
              "      <td>24</td>\n",
              "      <td>Global Talent</td>\n",
              "      <td>AIESEC INTERNATIONAL</td>\n",
              "      <td>Asia Pacific</td>\n",
              "      <td>0</td>\n",
              "      <td>19</td>\n",
              "      <td>open</td>\n",
              "      <td>2014-11-01</td>\n",
              "      <td>2014-01-01</td>\n",
              "      <td>1</td>\n",
              "      <td>2</td>\n",
              "      <td>1</td>\n",
              "      <td>1</td>\n",
              "      <td>0</td>\n",
              "      <td>realized</td>\n",
              "      <td>1</td>\n",
              "      <td>11</td>\n",
              "      <td>56.0</td>\n",
              "      <td>211.0</td>\n",
              "      <td>1</td>\n",
              "      <td>Asia Pacific</td>\n",
              "      <td>0.0</td>\n",
              "      <td>1.0</td>\n",
              "      <td>0.0</td>\n",
              "      <td>0.0</td>\n",
              "      <td>0.0</td>\n",
              "      <td>0.0</td>\n",
              "      <td>0.0</td>\n",
              "    </tr>\n",
              "    <tr>\n",
              "      <th>4</th>\n",
              "      <td>290505</td>\n",
              "      <td>2015-01-05</td>\n",
              "      <td>2016-01-01</td>\n",
              "      <td>1</td>\n",
              "      <td>2015-05-12</td>\n",
              "      <td>2016-01-27</td>\n",
              "      <td>6</td>\n",
              "      <td>Global Volunteer</td>\n",
              "      <td>Americas</td>\n",
              "      <td>Costa Rica</td>\n",
              "      <td>9</td>\n",
              "      <td>7</td>\n",
              "      <td>open</td>\n",
              "      <td>2015-01-01</td>\n",
              "      <td>2015-01-01</td>\n",
              "      <td>1</td>\n",
              "      <td>3</td>\n",
              "      <td>1</td>\n",
              "      <td>1</td>\n",
              "      <td>3</td>\n",
              "      <td>realized</td>\n",
              "      <td>1</td>\n",
              "      <td>1</td>\n",
              "      <td>361.0</td>\n",
              "      <td>260.0</td>\n",
              "      <td>5</td>\n",
              "      <td>Central America</td>\n",
              "      <td>0.0</td>\n",
              "      <td>1.0</td>\n",
              "      <td>0.0</td>\n",
              "      <td>0.0</td>\n",
              "      <td>0.0</td>\n",
              "      <td>0.0</td>\n",
              "      <td>0.0</td>\n",
              "    </tr>\n",
              "  </tbody>\n",
              "</table>\n",
              "</div>"
            ],
            "text/plain": [
              "   opportunity_id  created_at applications_close_date  ...  Other Politics Science\n",
              "0          290499  2014-11-05              2015-03-30  ...    0.0      0.0     0.0\n",
              "1          290500  2014-11-05              2015-06-15  ...    0.0      0.0     0.0\n",
              "2          290502  2014-11-17              2015-01-01  ...    0.0      0.0     0.0\n",
              "3          290503  2014-11-05              2014-12-31  ...    0.0      0.0     0.0\n",
              "4          290505  2015-01-05              2016-01-01  ...    0.0      0.0     0.0\n",
              "\n",
              "[5 rows x 34 columns]"
            ]
          },
          "metadata": {
            "tags": []
          },
          "execution_count": 4
        }
      ]
    },
    {
      "cell_type": "code",
      "metadata": {
        "id": "Y4vOqceeIGa0",
        "outputId": "6de8cbea-6cf7-47b9-a38c-a572eb67f8f4",
        "colab": {
          "base_uri": "https://localhost:8080/",
          "height": 317
        }
      },
      "source": [
        "##Quick overiew of the basic statistics of the data\n",
        "opportunities.realized = opportunities.realized.astype('int')\n",
        "opportunities.describe()"
      ],
      "execution_count": null,
      "outputs": [
        {
          "output_type": "execute_result",
          "data": {
            "text/html": [
              "<div>\n",
              "<style scoped>\n",
              "    .dataframe tbody tr th:only-of-type {\n",
              "        vertical-align: middle;\n",
              "    }\n",
              "\n",
              "    .dataframe tbody tr th {\n",
              "        vertical-align: top;\n",
              "    }\n",
              "\n",
              "    .dataframe thead th {\n",
              "        text-align: right;\n",
              "    }\n",
              "</style>\n",
              "<table border=\"1\" class=\"dataframe\">\n",
              "  <thead>\n",
              "    <tr style=\"text-align: right;\">\n",
              "      <th></th>\n",
              "      <th>opportunity_id</th>\n",
              "      <th>openings</th>\n",
              "      <th>duration_min</th>\n",
              "      <th>favourites_count</th>\n",
              "      <th>opportunity_applications_count</th>\n",
              "      <th>background_p_count</th>\n",
              "      <th>skill_r_count</th>\n",
              "      <th>skill_p_count</th>\n",
              "      <th>language_r_count</th>\n",
              "      <th>language_p_count</th>\n",
              "      <th>realized</th>\n",
              "      <th>created_month</th>\n",
              "      <th>open_window</th>\n",
              "      <th>flexibility</th>\n",
              "      <th>start_month</th>\n",
              "      <th>Arts</th>\n",
              "      <th>Business</th>\n",
              "      <th>Engineering</th>\n",
              "      <th>Humanity</th>\n",
              "      <th>Other</th>\n",
              "      <th>Politics</th>\n",
              "      <th>Science</th>\n",
              "    </tr>\n",
              "  </thead>\n",
              "  <tbody>\n",
              "    <tr>\n",
              "      <th>count</th>\n",
              "      <td>381484.000000</td>\n",
              "      <td>381484.000000</td>\n",
              "      <td>381484.00000</td>\n",
              "      <td>381484.000000</td>\n",
              "      <td>381484.000000</td>\n",
              "      <td>381484.000000</td>\n",
              "      <td>381484.000000</td>\n",
              "      <td>381484.000000</td>\n",
              "      <td>381484.000000</td>\n",
              "      <td>381484.000000</td>\n",
              "      <td>381484.000000</td>\n",
              "      <td>381484.000000</td>\n",
              "      <td>381484.000000</td>\n",
              "      <td>381484.000000</td>\n",
              "      <td>381484.000000</td>\n",
              "      <td>381484.000000</td>\n",
              "      <td>381484.000000</td>\n",
              "      <td>381484.000000</td>\n",
              "      <td>381484.000000</td>\n",
              "      <td>381484.000000</td>\n",
              "      <td>381484.000000</td>\n",
              "      <td>381484.000000</td>\n",
              "    </tr>\n",
              "    <tr>\n",
              "      <th>mean</th>\n",
              "      <td>520723.429090</td>\n",
              "      <td>1.890344</td>\n",
              "      <td>12.30947</td>\n",
              "      <td>1.628191</td>\n",
              "      <td>7.238526</td>\n",
              "      <td>1.150242</td>\n",
              "      <td>2.410437</td>\n",
              "      <td>2.962947</td>\n",
              "      <td>0.911865</td>\n",
              "      <td>0.715760</td>\n",
              "      <td>0.403372</td>\n",
              "      <td>6.499581</td>\n",
              "      <td>155.430255</td>\n",
              "      <td>157.004313</td>\n",
              "      <td>6.275133</td>\n",
              "      <td>0.126123</td>\n",
              "      <td>0.182296</td>\n",
              "      <td>0.045462</td>\n",
              "      <td>0.007964</td>\n",
              "      <td>0.056023</td>\n",
              "      <td>0.000849</td>\n",
              "      <td>0.004276</td>\n",
              "    </tr>\n",
              "    <tr>\n",
              "      <th>std</th>\n",
              "      <td>155806.937544</td>\n",
              "      <td>3.372766</td>\n",
              "      <td>13.71868</td>\n",
              "      <td>8.354226</td>\n",
              "      <td>32.190732</td>\n",
              "      <td>0.822548</td>\n",
              "      <td>2.325688</td>\n",
              "      <td>2.503923</td>\n",
              "      <td>0.672084</td>\n",
              "      <td>1.101138</td>\n",
              "      <td>0.490575</td>\n",
              "      <td>3.319524</td>\n",
              "      <td>61.628123</td>\n",
              "      <td>154.677986</td>\n",
              "      <td>3.314781</td>\n",
              "      <td>0.323906</td>\n",
              "      <td>0.378767</td>\n",
              "      <td>0.204816</td>\n",
              "      <td>0.083058</td>\n",
              "      <td>0.217634</td>\n",
              "      <td>0.026095</td>\n",
              "      <td>0.059930</td>\n",
              "    </tr>\n",
              "    <tr>\n",
              "      <th>min</th>\n",
              "      <td>290499.000000</td>\n",
              "      <td>0.000000</td>\n",
              "      <td>-6.00000</td>\n",
              "      <td>0.000000</td>\n",
              "      <td>0.000000</td>\n",
              "      <td>0.000000</td>\n",
              "      <td>0.000000</td>\n",
              "      <td>0.000000</td>\n",
              "      <td>0.000000</td>\n",
              "      <td>0.000000</td>\n",
              "      <td>0.000000</td>\n",
              "      <td>1.000000</td>\n",
              "      <td>6.000000</td>\n",
              "      <td>1.000000</td>\n",
              "      <td>1.000000</td>\n",
              "      <td>0.000000</td>\n",
              "      <td>0.000000</td>\n",
              "      <td>0.000000</td>\n",
              "      <td>0.000000</td>\n",
              "      <td>0.000000</td>\n",
              "      <td>0.000000</td>\n",
              "      <td>0.000000</td>\n",
              "    </tr>\n",
              "    <tr>\n",
              "      <th>25%</th>\n",
              "      <td>397761.750000</td>\n",
              "      <td>1.000000</td>\n",
              "      <td>6.00000</td>\n",
              "      <td>0.000000</td>\n",
              "      <td>0.000000</td>\n",
              "      <td>1.000000</td>\n",
              "      <td>0.000000</td>\n",
              "      <td>1.000000</td>\n",
              "      <td>1.000000</td>\n",
              "      <td>0.000000</td>\n",
              "      <td>0.000000</td>\n",
              "      <td>4.000000</td>\n",
              "      <td>159.396836</td>\n",
              "      <td>49.000000</td>\n",
              "      <td>4.000000</td>\n",
              "      <td>0.000000</td>\n",
              "      <td>0.000000</td>\n",
              "      <td>0.000000</td>\n",
              "      <td>0.000000</td>\n",
              "      <td>0.000000</td>\n",
              "      <td>0.000000</td>\n",
              "      <td>0.000000</td>\n",
              "    </tr>\n",
              "    <tr>\n",
              "      <th>50%</th>\n",
              "      <td>497087.500000</td>\n",
              "      <td>1.000000</td>\n",
              "      <td>6.00000</td>\n",
              "      <td>0.000000</td>\n",
              "      <td>1.000000</td>\n",
              "      <td>1.000000</td>\n",
              "      <td>2.000000</td>\n",
              "      <td>2.000000</td>\n",
              "      <td>1.000000</td>\n",
              "      <td>0.000000</td>\n",
              "      <td>0.000000</td>\n",
              "      <td>6.000000</td>\n",
              "      <td>159.396836</td>\n",
              "      <td>78.000000</td>\n",
              "      <td>6.000000</td>\n",
              "      <td>0.000000</td>\n",
              "      <td>0.000000</td>\n",
              "      <td>0.000000</td>\n",
              "      <td>0.000000</td>\n",
              "      <td>0.000000</td>\n",
              "      <td>0.000000</td>\n",
              "      <td>0.000000</td>\n",
              "    </tr>\n",
              "    <tr>\n",
              "      <th>75%</th>\n",
              "      <td>597490.250000</td>\n",
              "      <td>1.000000</td>\n",
              "      <td>12.00000</td>\n",
              "      <td>0.000000</td>\n",
              "      <td>1.000000</td>\n",
              "      <td>2.000000</td>\n",
              "      <td>4.000000</td>\n",
              "      <td>4.000000</td>\n",
              "      <td>1.000000</td>\n",
              "      <td>1.000000</td>\n",
              "      <td>1.000000</td>\n",
              "      <td>9.000000</td>\n",
              "      <td>159.396836</td>\n",
              "      <td>212.000000</td>\n",
              "      <td>9.000000</td>\n",
              "      <td>0.000000</td>\n",
              "      <td>0.000000</td>\n",
              "      <td>0.000000</td>\n",
              "      <td>0.000000</td>\n",
              "      <td>0.000000</td>\n",
              "      <td>0.000000</td>\n",
              "      <td>0.000000</td>\n",
              "    </tr>\n",
              "    <tr>\n",
              "      <th>max</th>\n",
              "      <td>893776.000000</td>\n",
              "      <td>29.000000</td>\n",
              "      <td>78.00000</td>\n",
              "      <td>531.000000</td>\n",
              "      <td>2281.000000</td>\n",
              "      <td>10.000000</td>\n",
              "      <td>10.000000</td>\n",
              "      <td>10.000000</td>\n",
              "      <td>10.000000</td>\n",
              "      <td>10.000000</td>\n",
              "      <td>1.000000</td>\n",
              "      <td>12.000000</td>\n",
              "      <td>625.000000</td>\n",
              "      <td>1095.000000</td>\n",
              "      <td>12.000000</td>\n",
              "      <td>1.000000</td>\n",
              "      <td>1.000000</td>\n",
              "      <td>1.000000</td>\n",
              "      <td>1.000000</td>\n",
              "      <td>1.000000</td>\n",
              "      <td>1.000000</td>\n",
              "      <td>1.000000</td>\n",
              "    </tr>\n",
              "  </tbody>\n",
              "</table>\n",
              "</div>"
            ],
            "text/plain": [
              "       opportunity_id       openings  ...       Politics        Science\n",
              "count   381484.000000  381484.000000  ...  381484.000000  381484.000000\n",
              "mean    520723.429090       1.890344  ...       0.000849       0.004276\n",
              "std     155806.937544       3.372766  ...       0.026095       0.059930\n",
              "min     290499.000000       0.000000  ...       0.000000       0.000000\n",
              "25%     397761.750000       1.000000  ...       0.000000       0.000000\n",
              "50%     497087.500000       1.000000  ...       0.000000       0.000000\n",
              "75%     597490.250000       1.000000  ...       0.000000       0.000000\n",
              "max     893776.000000      29.000000  ...       1.000000       1.000000\n",
              "\n",
              "[8 rows x 22 columns]"
            ]
          },
          "metadata": {
            "tags": []
          },
          "execution_count": 3
        }
      ]
    },
    {
      "cell_type": "markdown",
      "metadata": {
        "id": "8zS8YJc4Uj-9"
      },
      "source": [
        "##### **2.1 Data Profiling - Target Variable**"
      ]
    },
    {
      "cell_type": "code",
      "metadata": {
        "id": "fSeG8502xTS1",
        "outputId": "13f0073f-5052-4c0e-b16d-f350f38c5e6f",
        "colab": {
          "base_uri": "https://localhost:8080/",
          "height": 51
        }
      },
      "source": [
        "##The distribution of the target variable\n",
        "Realized_opp = opportunities.groupby('realized')['opportunity_id'].nunique().loc[True]\n",
        "Not_realized_opp = opportunities.groupby('realized')['opportunity_id'].nunique().loc[False]\n",
        "\n",
        "print('The realization rate is ', round(Realized_opp/(Realized_opp+Not_realized_opp),3))\n",
        "print('The baseline using majority classifer is ', round(Not_realized_opp/(Realized_opp+Not_realized_opp),3))"
      ],
      "execution_count": null,
      "outputs": [
        {
          "output_type": "stream",
          "text": [
            "The realization rate is  0.403\n",
            "The baseline using majority classifer is  0.597\n"
          ],
          "name": "stdout"
        }
      ]
    },
    {
      "cell_type": "code",
      "metadata": {
        "id": "iQFNDE29N287",
        "outputId": "20517395-8524-45d8-eafd-dba93bce709e",
        "colab": {
          "base_uri": "https://localhost:8080/",
          "height": 408
        }
      },
      "source": [
        "##Correlation against the target variable\n",
        "opportunities.corr()['realized'].sort_values(ascending = False)"
      ],
      "execution_count": null,
      "outputs": [
        {
          "output_type": "execute_result",
          "data": {
            "text/plain": [
              "realized                          1.000000\n",
              "opportunity_applications_count    0.086392\n",
              "favourites_count                  0.077387\n",
              "Arts                              0.051803\n",
              "open_window                       0.041259\n",
              "Other                             0.024518\n",
              "background_p_count                0.015446\n",
              "language_p_count                  0.015106\n",
              "Humanity                          0.009168\n",
              "language_r_count                  0.008230\n",
              "Politics                          0.007128\n",
              "Science                           0.002954\n",
              "skill_r_count                    -0.011309\n",
              "skill_p_count                    -0.014728\n",
              "Business                         -0.023705\n",
              "start_month                      -0.025533\n",
              "created_month                    -0.031847\n",
              "openings                         -0.033402\n",
              "Engineering                      -0.054813\n",
              "duration_min                     -0.061490\n",
              "opportunity_id                   -0.078686\n",
              "flexibility                      -0.123820\n",
              "Name: realized, dtype: float64"
            ]
          },
          "metadata": {
            "tags": []
          },
          "execution_count": 4
        }
      ]
    },
    {
      "cell_type": "code",
      "metadata": {
        "id": "LWY4PqmpGvWQ",
        "outputId": "cf8753aa-0b37-4162-b2e8-9424fb964359",
        "colab": {
          "base_uri": "https://localhost:8080/",
          "height": 701
        }
      },
      "source": [
        "##Correlation map to see how features are correlated with the target variable\n",
        "\n",
        "corrmat = opportunities.corr()\n",
        "plt.subplots(figsize=(12,9))\n",
        "sns.heatmap(corrmat, vmax=0.9, square=True)"
      ],
      "execution_count": null,
      "outputs": [
        {
          "output_type": "execute_result",
          "data": {
            "text/plain": [
              "<matplotlib.axes._subplots.AxesSubplot at 0x7f44cc5cc208>"
            ]
          },
          "metadata": {
            "tags": []
          },
          "execution_count": 14
        },
        {
          "output_type": "display_data",
          "data": {
            "image/png": "[encoded data removed]",
            "text/plain": [
              "<Figure size 864x648 with 2 Axes>"
            ]
          },
          "metadata": {
            "tags": [],
            "needs_background": "light"
          }
        }
      ]
    },
    {
      "cell_type": "code",
      "metadata": {
        "id": "X0scn7pNOpwC",
        "outputId": "a51fb4c3-18ab-4019-b98c-96fbd454a973",
        "colab": {
          "base_uri": "https://localhost:8080/",
          "height": 1000
        }
      },
      "source": [
        "#plot chosen categorical variables against the target variable\n",
        "barchart_variable = ['programme_id', 'Region', 'start_month']\n",
        "target_variable = 'realized'\n",
        "\n",
        "#fig, axes = plt.subplots(nrows=np.ceil(len(boxplot_variable)/4), ncols=4)\n",
        "for index, i in enumerate(barchart_variable, start = 0):\n",
        "    print(opportunities.groupby([i,target_variable]).count()['opportunity_id'])\n",
        "    sns.set()\n",
        "    fig, ax = plt.subplots(figsize = (20,13))\n",
        "    ax = sns.countplot(x = i, hue = target_variable, data = opportunities)\n",
        "    ax.tick_params(labelsize=5)\n",
        "    #opportunities.boxplot(column = [target_variable], by = [i], ax = axes[])"
      ],
      "execution_count": null,
      "outputs": [
        {
          "output_type": "stream",
          "text": [
            "programme_id         realized\n",
            "Global Entrepreneur  0             5705\n",
            "                     1             1915\n",
            "Global Talent        0            90885\n",
            "                     1            41413\n",
            "Global Volunteer     0           131014\n",
            "                     1           110552\n",
            "Name: opportunity_id, dtype: int64\n",
            "Region                     realized\n",
            "Asia Pacific               0            3538\n",
            "                           1            1664\n",
            "Australia and New Zealand  0             410\n",
            "                           1             317\n",
            "Caribbean                  0             132\n",
            "                           1              55\n",
            "Central America            0            3775\n",
            "                           1            5240\n",
            "Central Asia               0             510\n",
            "                           1             376\n",
            "Eastern Africa             0            7152\n",
            "                           1            5295\n",
            "Eastern Asia               0           19055\n",
            "                           1           11583\n",
            "Eastern Europe             0           32134\n",
            "                           1           25204\n",
            "Europe                     0            5534\n",
            "                           1            2671\n",
            "Middle Africa              0            1352\n",
            "                           1             428\n",
            "Middle East and Africa     0            3759\n",
            "                           1            1770\n",
            "Northern Africa            0           23880\n",
            "                           1            8445\n",
            "Northern America           0            3900\n",
            "                           1            2815\n",
            "Northern Europe            0            3068\n",
            "                           1            2064\n",
            "South America              0           18928\n",
            "                           1           25098\n",
            "South-central Asia         0           57229\n",
            "                           1           21482\n",
            "South-eastern Asia         0           10343\n",
            "                           1           13317\n",
            "Southern Africa            0             471\n",
            "                           1             280\n",
            "Southern Europe            0            7743\n",
            "                           1            8843\n",
            "Western Africa             0            5374\n",
            "                           1            3425\n",
            "Western Asia               0            8577\n",
            "                           1            8485\n",
            "Western Europe             0           10740\n",
            "                           1            5023\n",
            "Name: opportunity_id, dtype: int64\n",
            "start_month  realized\n",
            "1            0           24583\n",
            "             1           18291\n",
            "2            0           16172\n",
            "             1           10347\n",
            "3            0           15142\n",
            "             1            8028\n",
            "4            0           13781\n",
            "             1            7510\n",
            "5            0           18470\n",
            "             1           12812\n",
            "6            0           28950\n",
            "             1           26647\n",
            "7            0           28044\n",
            "             1           23884\n",
            "8            0           16418\n",
            "             1           10186\n",
            "9            0           18146\n",
            "             1            9312\n",
            "10           0           14451\n",
            "             1            6950\n",
            "11           0           16282\n",
            "             1            8213\n",
            "12           0           17165\n",
            "             1           11700\n",
            "Name: opportunity_id, dtype: int64\n"
          ],
          "name": "stdout"
        },
        {
          "output_type": "display_data",
          "data": {
            "image/png": "[encoded data removed]",
            "text/plain": [
              "<Figure size 1440x936 with 1 Axes>"
            ]
          },
          "metadata": {
            "tags": []
          }
        },
        {
          "output_type": "display_data",
          "data": {
            "image/png": "[encoded data removed]",
            "text/plain": [
              "<Figure size 1440x936 with 1 Axes>"
            ]
          },
          "metadata": {
            "tags": []
          }
        },
        {
          "output_type": "display_data",
          "data": {
            "image/png": "[encoded data removed]",
            "text/plain": [
              "<Figure size 1440x936 with 1 Axes>"
            ]
          },
          "metadata": {
            "tags": []
          }
        }
      ]
    },
    {
      "cell_type": "markdown",
      "metadata": {
        "id": "pSCtCz52WOg6"
      },
      "source": [
        "**Observation**\n",
        "\n",
        "For programme_id, we observe that global volunteer program has the highest realization rate.\n",
        "\n",
        "For Region, South America, Central America, Southern Europe and South-eastern Asia have higher realized opportunities than not realized opportunities. This indicates the flavor of the participants.\n",
        "\n",
        "For start_month, opportunities that started at Dec, Jan, June and July have a higher realization rate. This might be due to the winter and summer holidays."
      ]
    },
    {
      "cell_type": "markdown",
      "metadata": {
        "id": "Vc8G9Lpz1753"
      },
      "source": [
        "# **3. Data Processing for ML**"
      ]
    },
    {
      "cell_type": "code",
      "metadata": {
        "id": "KH8pT7zUNoJ8"
      },
      "source": [
        "## select out the important features\n",
        "opportunities_cleaned = opportunities[['realized', 'start_month', 'programme_id', 'name_entity', 'duration_min', 'Arts', 'Business', 'Engineering', 'Humanity', 'Other', 'Politics', 'Science', 'background_p_count', 'skill_r_count', 'skill_p_count', 'language_r_count', 'language_p_count','open_window','flexibility','openings']]"
      ],
      "execution_count": null,
      "outputs": []
    },
    {
      "cell_type": "markdown",
      "metadata": {
        "id": "FX6QqI77YNps"
      },
      "source": [
        "**Rationale of variables selection**\n",
        "\n",
        "**t0 data**\n",
        "\n",
        "The first rationale would be using variables at t0. As we would like provide the output score for marketing team to prioritise the opportunities, we would like to select the variables which would only appear upon opportunity creation. Therefore, \"favourites_count\" and \"opportunity_applications_count\" will be excluded.\n",
        "\n",
        "**Time Variable**\n",
        "\n",
        "As we would like to predict based on the inner attributes of the opportunity, we will exclude the time related variables. Yet, start_month will be maintained as this shows the seasonality of favorites and will be treated as a categorical variable."
      ]
    },
    {
      "cell_type": "code",
      "metadata": {
        "id": "lykx52FVtsic",
        "outputId": "825faa0a-6402-40c7-a735-c8b43213751a",
        "colab": {
          "base_uri": "https://localhost:8080/",
          "height": 67
        }
      },
      "source": [
        "## one-hot encoding\n",
        "opportunities_cleaned_one_hot = pd.get_dummies(opportunities_cleaned, columns=['programme_id', 'name_entity', 'start_month'])\n",
        "\n",
        "## normalize the dataset\n",
        "dataset = opportunities_cleaned_one_hot.values\n",
        "dataset = dataset.astype('float32')\n",
        "scaler = MinMaxScaler(feature_range=(0, 1))\n",
        "dataset = scaler.fit_transform(dataset)\n",
        "\n",
        "## split X and y\n",
        "X = dataset[:,1:]\n",
        "y = dataset[:,0]\n",
        "\n",
        "## split to training and testing set\n",
        "X_train, X_test, y_train, y_test = train_test_split(X, y, test_size=0.1, random_state=7)\n",
        "\n",
        "## change data type\n",
        "X_train = X_train.astype('float32')\n",
        "y_train = y_train.astype('float32')\n",
        "X_test = X_test.astype('float32')\n",
        "y_test = y_test.astype('float32')\n",
        "\n",
        "## evaluate the shape of data\n",
        "print(X_train.shape, y_train.shape)\n",
        "print(X_test.shape, y_test.shape)\n",
        "X.shape"
      ],
      "execution_count": null,
      "outputs": [
        {
          "output_type": "stream",
          "text": [
            "(343335, 160) (343335,)\n",
            "(38149, 160) (38149,)\n"
          ],
          "name": "stdout"
        },
        {
          "output_type": "execute_result",
          "data": {
            "text/plain": [
              "(381484, 160)"
            ]
          },
          "metadata": {
            "tags": []
          },
          "execution_count": 5
        }
      ]
    },
    {
      "cell_type": "code",
      "metadata": {
        "id": "1lQj7MfL0yHo",
        "outputId": "54c091a3-62a3-4ea8-e742-e3e94528eef4",
        "colab": {
          "base_uri": "https://localhost:8080/",
          "height": 221
        }
      },
      "source": [
        "## evaluate the correlation against target variable after one-hot encoding\n",
        "opportunities_cleaned_one_hot.corr()[\"realized\"].sort_values(ascending=False)"
      ],
      "execution_count": null,
      "outputs": [
        {
          "output_type": "execute_result",
          "data": {
            "text/plain": [
              "realized                         1.000000\n",
              "programme_id_Global Volunteer    0.145371\n",
              "name_entity_Brazil               0.078199\n",
              "name_entity_Argentina            0.071525\n",
              "start_month_6                    0.063918\n",
              "                                   ...   \n",
              "duration_min                    -0.061490\n",
              "name_entity_Egypt               -0.108029\n",
              "flexibility                     -0.123820\n",
              "programme_id_Global Talent      -0.134187\n",
              "name_entity_India               -0.145362\n",
              "Name: realized, Length: 161, dtype: float64"
            ]
          },
          "metadata": {
            "tags": []
          },
          "execution_count": 20
        }
      ]
    },
    {
      "cell_type": "markdown",
      "metadata": {
        "id": "VnpOiLmdaTFl"
      },
      "source": [
        "# **4. Modelling and Evaluation**"
      ]
    },
    {
      "cell_type": "markdown",
      "metadata": {
        "id": "T5GpFKqEaYiA"
      },
      "source": [
        "4 models will be used for the prediction. (Multi-layer perceptron, Naive Bayes, Decision Tree and Logistics Regression)"
      ]
    },
    {
      "cell_type": "markdown",
      "metadata": {
        "id": "nOLDBD9hjPv0"
      },
      "source": [
        "**4.1 Multi-layer Perceptron (Deep Learning)**"
      ]
    },
    {
      "cell_type": "markdown",
      "metadata": {
        "id": "OPy8Q-lhpYl8"
      },
      "source": [
        "**4.1.1 Initial Model Building**"
      ]
    },
    {
      "cell_type": "code",
      "metadata": {
        "id": "WWLTXedr1GJv"
      },
      "source": [
        "## Model Building\n",
        "\n",
        "num_pixels = X.shape[1]\n",
        "def base_model(init_mode='uniform', dropout = 0.0):\n",
        "\n",
        "  model = Sequential()\n",
        "  model.add(Dense(200, input_dim=num_pixels,kernel_initializer=init_mode, activation='relu',kernel_regularizer=regularizers.l2(0.00005)))\n",
        "  model.add(Dropout(dropout))\n",
        "  model.add(Dense(100, kernel_initializer=init_mode,activation='relu',kernel_regularizer=regularizers.l2(0.00005)))\n",
        "  model.add(Dropout(dropout))\n",
        "  model.add(Dense(50, kernel_initializer=init_mode,activation='relu',kernel_regularizer=regularizers.l2(0.00005)))\n",
        "  model.add(Dropout(dropout))\n",
        "  #model.add(Dense(50, kernel_initializer='normal',activation='relu',kernel_regularizer=regularizers.l2(0.001)))\n",
        "  model.add(Dense(1, kernel_initializer=init_mode, activation='sigmoid'))\n",
        "  # Compile model\n",
        "  model.compile(loss='binary_crossentropy', optimizer='adam', metrics=['accuracy'])\n",
        "\n",
        "  return model"
      ],
      "execution_count": null,
      "outputs": []
    },
    {
      "cell_type": "markdown",
      "metadata": {
        "id": "tzqNKAZMpfTq"
      },
      "source": [
        "**4.1.2 Hyper-parameter Search**"
      ]
    },
    {
      "cell_type": "markdown",
      "metadata": {
        "id": "MlsftUMHogxd"
      },
      "source": [
        "Batch size, epochs, initialization mode and dropout rate are chosen for hyper-parameter search."
      ]
    },
    {
      "cell_type": "code",
      "metadata": {
        "id": "dl20Sb5nftT0",
        "outputId": "76cee8de-9a43-4e18-8abf-868768b53840",
        "colab": {
          "base_uri": "https://localhost:8080/",
          "height": 1000
        }
      },
      "source": [
        "## Hyper-parameter Search\n",
        "\n",
        "model = KerasClassifier(build_fn=base_model, verbose=0)\n",
        "\n",
        "batch_size = [32, 64, 128, 256]\n",
        "epochs = [10, 20]\n",
        "init_mode = ['uniform', 'normal', 'glorot_normal', 'glorot_uniform']\n",
        "dropout = [0.1, 0.3, 0.5]\n",
        "param_grid = dict(batch_size=batch_size, epochs=epochs, init_mode=init_mode, dropout=dropout)\n",
        "grid = GridSearchCV(estimator=model, param_grid=param_grid, n_jobs=-1, cv=5)\n",
        "grid_result = grid.fit(X_train[:50000,:], y_train[:50000])\n",
        "# summarize results\n",
        "print(\"Best: %f using %s\" % (grid_result.best_score_, grid_result.best_params_))\n",
        "means = grid_result.cv_results_['mean_test_score']\n",
        "stds = grid_result.cv_results_['std_test_score']\n",
        "params = grid_result.cv_results_['params']\n",
        "for mean, stdev, param in zip(means, stds, params):\n",
        "    print(\"%f (%f) with: %r\" % (mean, stdev, param))"
      ],
      "execution_count": 7,
      "outputs": [
        {
          "output_type": "stream",
          "text": [
            "/usr/local/lib/python3.6/dist-packages/joblib/externals/loky/process_executor.py:691: UserWarning: A worker stopped while some jobs were given to the executor. This can be caused by a too short worker timeout or by a memory leak.\n",
            "  \"timeout or by a memory leak.\", UserWarning\n"
          ],
          "name": "stderr"
        },
        {
          "output_type": "stream",
          "text": [
            "Best: 0.673340 using {'batch_size': 256, 'dropout': 0.5, 'epochs': 20, 'init_mode': 'glorot_normal'}\n",
            "0.666560 (0.002215) with: {'batch_size': 32, 'dropout': 0.1, 'epochs': 10, 'init_mode': 'uniform'}\n",
            "0.667540 (0.001592) with: {'batch_size': 32, 'dropout': 0.1, 'epochs': 10, 'init_mode': 'normal'}\n",
            "0.668700 (0.004090) with: {'batch_size': 32, 'dropout': 0.1, 'epochs': 10, 'init_mode': 'glorot_normal'}\n",
            "0.668340 (0.001994) with: {'batch_size': 32, 'dropout': 0.1, 'epochs': 10, 'init_mode': 'glorot_uniform'}\n",
            "0.666700 (0.003552) with: {'batch_size': 32, 'dropout': 0.1, 'epochs': 20, 'init_mode': 'uniform'}\n",
            "0.667400 (0.003141) with: {'batch_size': 32, 'dropout': 0.1, 'epochs': 20, 'init_mode': 'normal'}\n",
            "0.666320 (0.001406) with: {'batch_size': 32, 'dropout': 0.1, 'epochs': 20, 'init_mode': 'glorot_normal'}\n",
            "0.666260 (0.003833) with: {'batch_size': 32, 'dropout': 0.1, 'epochs': 20, 'init_mode': 'glorot_uniform'}\n",
            "0.668160 (0.005619) with: {'batch_size': 32, 'dropout': 0.3, 'epochs': 10, 'init_mode': 'uniform'}\n",
            "0.669040 (0.004057) with: {'batch_size': 32, 'dropout': 0.3, 'epochs': 10, 'init_mode': 'normal'}\n",
            "0.668000 (0.001305) with: {'batch_size': 32, 'dropout': 0.3, 'epochs': 10, 'init_mode': 'glorot_normal'}\n",
            "0.669160 (0.003934) with: {'batch_size': 32, 'dropout': 0.3, 'epochs': 10, 'init_mode': 'glorot_uniform'}\n",
            "0.669940 (0.003911) with: {'batch_size': 32, 'dropout': 0.3, 'epochs': 20, 'init_mode': 'uniform'}\n",
            "0.669580 (0.002934) with: {'batch_size': 32, 'dropout': 0.3, 'epochs': 20, 'init_mode': 'normal'}\n",
            "0.671500 (0.003078) with: {'batch_size': 32, 'dropout': 0.3, 'epochs': 20, 'init_mode': 'glorot_normal'}\n",
            "0.667620 (0.002671) with: {'batch_size': 32, 'dropout': 0.3, 'epochs': 20, 'init_mode': 'glorot_uniform'}\n",
            "0.671640 (0.002379) with: {'batch_size': 32, 'dropout': 0.5, 'epochs': 10, 'init_mode': 'uniform'}\n",
            "0.671980 (0.005150) with: {'batch_size': 32, 'dropout': 0.5, 'epochs': 10, 'init_mode': 'normal'}\n",
            "0.671400 (0.003946) with: {'batch_size': 32, 'dropout': 0.5, 'epochs': 10, 'init_mode': 'glorot_normal'}\n",
            "0.670800 (0.002665) with: {'batch_size': 32, 'dropout': 0.5, 'epochs': 10, 'init_mode': 'glorot_uniform'}\n",
            "0.670440 (0.003212) with: {'batch_size': 32, 'dropout': 0.5, 'epochs': 20, 'init_mode': 'uniform'}\n",
            "0.670520 (0.002759) with: {'batch_size': 32, 'dropout': 0.5, 'epochs': 20, 'init_mode': 'normal'}\n",
            "0.671740 (0.002999) with: {'batch_size': 32, 'dropout': 0.5, 'epochs': 20, 'init_mode': 'glorot_normal'}\n",
            "0.673240 (0.003130) with: {'batch_size': 32, 'dropout': 0.5, 'epochs': 20, 'init_mode': 'glorot_uniform'}\n",
            "0.669760 (0.002559) with: {'batch_size': 64, 'dropout': 0.1, 'epochs': 10, 'init_mode': 'uniform'}\n",
            "0.668080 (0.004262) with: {'batch_size': 64, 'dropout': 0.1, 'epochs': 10, 'init_mode': 'normal'}\n",
            "0.669380 (0.004304) with: {'batch_size': 64, 'dropout': 0.1, 'epochs': 10, 'init_mode': 'glorot_normal'}\n",
            "0.668840 (0.003276) with: {'batch_size': 64, 'dropout': 0.1, 'epochs': 10, 'init_mode': 'glorot_uniform'}\n",
            "0.667240 (0.002853) with: {'batch_size': 64, 'dropout': 0.1, 'epochs': 20, 'init_mode': 'uniform'}\n",
            "0.667900 (0.001070) with: {'batch_size': 64, 'dropout': 0.1, 'epochs': 20, 'init_mode': 'normal'}\n",
            "0.665860 (0.003808) with: {'batch_size': 64, 'dropout': 0.1, 'epochs': 20, 'init_mode': 'glorot_normal'}\n",
            "0.665520 (0.002878) with: {'batch_size': 64, 'dropout': 0.1, 'epochs': 20, 'init_mode': 'glorot_uniform'}\n",
            "0.671620 (0.001030) with: {'batch_size': 64, 'dropout': 0.3, 'epochs': 10, 'init_mode': 'uniform'}\n",
            "0.669960 (0.002865) with: {'batch_size': 64, 'dropout': 0.3, 'epochs': 10, 'init_mode': 'normal'}\n",
            "0.670820 (0.003807) with: {'batch_size': 64, 'dropout': 0.3, 'epochs': 10, 'init_mode': 'glorot_normal'}\n",
            "0.669600 (0.000721) with: {'batch_size': 64, 'dropout': 0.3, 'epochs': 10, 'init_mode': 'glorot_uniform'}\n",
            "0.670780 (0.004660) with: {'batch_size': 64, 'dropout': 0.3, 'epochs': 20, 'init_mode': 'uniform'}\n",
            "0.670820 (0.004049) with: {'batch_size': 64, 'dropout': 0.3, 'epochs': 20, 'init_mode': 'normal'}\n",
            "0.669800 (0.005061) with: {'batch_size': 64, 'dropout': 0.3, 'epochs': 20, 'init_mode': 'glorot_normal'}\n",
            "0.669040 (0.004743) with: {'batch_size': 64, 'dropout': 0.3, 'epochs': 20, 'init_mode': 'glorot_uniform'}\n",
            "0.670540 (0.002083) with: {'batch_size': 64, 'dropout': 0.5, 'epochs': 10, 'init_mode': 'uniform'}\n",
            "0.670080 (0.003631) with: {'batch_size': 64, 'dropout': 0.5, 'epochs': 10, 'init_mode': 'normal'}\n",
            "0.670340 (0.001500) with: {'batch_size': 64, 'dropout': 0.5, 'epochs': 10, 'init_mode': 'glorot_normal'}\n",
            "0.670680 (0.003520) with: {'batch_size': 64, 'dropout': 0.5, 'epochs': 10, 'init_mode': 'glorot_uniform'}\n",
            "0.670760 (0.003333) with: {'batch_size': 64, 'dropout': 0.5, 'epochs': 20, 'init_mode': 'uniform'}\n",
            "0.671020 (0.001918) with: {'batch_size': 64, 'dropout': 0.5, 'epochs': 20, 'init_mode': 'normal'}\n",
            "0.670940 (0.003342) with: {'batch_size': 64, 'dropout': 0.5, 'epochs': 20, 'init_mode': 'glorot_normal'}\n",
            "0.670920 (0.002418) with: {'batch_size': 64, 'dropout': 0.5, 'epochs': 20, 'init_mode': 'glorot_uniform'}\n",
            "0.671300 (0.003242) with: {'batch_size': 128, 'dropout': 0.1, 'epochs': 10, 'init_mode': 'uniform'}\n",
            "0.669020 (0.001925) with: {'batch_size': 128, 'dropout': 0.1, 'epochs': 10, 'init_mode': 'normal'}\n",
            "0.665980 (0.003161) with: {'batch_size': 128, 'dropout': 0.1, 'epochs': 10, 'init_mode': 'glorot_normal'}\n",
            "0.667800 (0.004945) with: {'batch_size': 128, 'dropout': 0.1, 'epochs': 10, 'init_mode': 'glorot_uniform'}\n",
            "0.668540 (0.002096) with: {'batch_size': 128, 'dropout': 0.1, 'epochs': 20, 'init_mode': 'uniform'}\n",
            "0.666180 (0.003800) with: {'batch_size': 128, 'dropout': 0.1, 'epochs': 20, 'init_mode': 'normal'}\n",
            "0.666440 (0.001861) with: {'batch_size': 128, 'dropout': 0.1, 'epochs': 20, 'init_mode': 'glorot_normal'}\n",
            "0.666160 (0.004396) with: {'batch_size': 128, 'dropout': 0.1, 'epochs': 20, 'init_mode': 'glorot_uniform'}\n",
            "0.669440 (0.003285) with: {'batch_size': 128, 'dropout': 0.3, 'epochs': 10, 'init_mode': 'uniform'}\n",
            "0.669420 (0.002313) with: {'batch_size': 128, 'dropout': 0.3, 'epochs': 10, 'init_mode': 'normal'}\n",
            "0.671340 (0.002934) with: {'batch_size': 128, 'dropout': 0.3, 'epochs': 10, 'init_mode': 'glorot_normal'}\n",
            "0.670280 (0.001723) with: {'batch_size': 128, 'dropout': 0.3, 'epochs': 10, 'init_mode': 'glorot_uniform'}\n",
            "0.669700 (0.002562) with: {'batch_size': 128, 'dropout': 0.3, 'epochs': 20, 'init_mode': 'uniform'}\n",
            "0.670860 (0.004157) with: {'batch_size': 128, 'dropout': 0.3, 'epochs': 20, 'init_mode': 'normal'}\n",
            "0.668560 (0.003509) with: {'batch_size': 128, 'dropout': 0.3, 'epochs': 20, 'init_mode': 'glorot_normal'}\n",
            "0.669400 (0.002025) with: {'batch_size': 128, 'dropout': 0.3, 'epochs': 20, 'init_mode': 'glorot_uniform'}\n",
            "0.672120 (0.004302) with: {'batch_size': 128, 'dropout': 0.5, 'epochs': 10, 'init_mode': 'uniform'}\n",
            "0.672160 (0.003591) with: {'batch_size': 128, 'dropout': 0.5, 'epochs': 10, 'init_mode': 'normal'}\n",
            "0.672140 (0.004424) with: {'batch_size': 128, 'dropout': 0.5, 'epochs': 10, 'init_mode': 'glorot_normal'}\n",
            "0.672360 (0.003673) with: {'batch_size': 128, 'dropout': 0.5, 'epochs': 10, 'init_mode': 'glorot_uniform'}\n",
            "0.670380 (0.003541) with: {'batch_size': 128, 'dropout': 0.5, 'epochs': 20, 'init_mode': 'uniform'}\n",
            "0.671580 (0.002300) with: {'batch_size': 128, 'dropout': 0.5, 'epochs': 20, 'init_mode': 'normal'}\n",
            "0.672940 (0.004612) with: {'batch_size': 128, 'dropout': 0.5, 'epochs': 20, 'init_mode': 'glorot_normal'}\n",
            "0.671940 (0.002490) with: {'batch_size': 128, 'dropout': 0.5, 'epochs': 20, 'init_mode': 'glorot_uniform'}\n",
            "0.668320 (0.001783) with: {'batch_size': 256, 'dropout': 0.1, 'epochs': 10, 'init_mode': 'uniform'}\n",
            "0.667680 (0.003573) with: {'batch_size': 256, 'dropout': 0.1, 'epochs': 10, 'init_mode': 'normal'}\n",
            "0.669080 (0.002623) with: {'batch_size': 256, 'dropout': 0.1, 'epochs': 10, 'init_mode': 'glorot_normal'}\n",
            "0.667820 (0.001462) with: {'batch_size': 256, 'dropout': 0.1, 'epochs': 10, 'init_mode': 'glorot_uniform'}\n",
            "0.665640 (0.004849) with: {'batch_size': 256, 'dropout': 0.1, 'epochs': 20, 'init_mode': 'uniform'}\n",
            "0.666300 (0.001906) with: {'batch_size': 256, 'dropout': 0.1, 'epochs': 20, 'init_mode': 'normal'}\n",
            "0.665320 (0.001127) with: {'batch_size': 256, 'dropout': 0.1, 'epochs': 20, 'init_mode': 'glorot_normal'}\n",
            "0.667360 (0.002288) with: {'batch_size': 256, 'dropout': 0.1, 'epochs': 20, 'init_mode': 'glorot_uniform'}\n",
            "0.670260 (0.002287) with: {'batch_size': 256, 'dropout': 0.3, 'epochs': 10, 'init_mode': 'uniform'}\n",
            "0.671440 (0.002860) with: {'batch_size': 256, 'dropout': 0.3, 'epochs': 10, 'init_mode': 'normal'}\n",
            "0.670340 (0.002752) with: {'batch_size': 256, 'dropout': 0.3, 'epochs': 10, 'init_mode': 'glorot_normal'}\n",
            "0.671080 (0.002536) with: {'batch_size': 256, 'dropout': 0.3, 'epochs': 10, 'init_mode': 'glorot_uniform'}\n",
            "0.670580 (0.003915) with: {'batch_size': 256, 'dropout': 0.3, 'epochs': 20, 'init_mode': 'uniform'}\n",
            "0.670400 (0.002852) with: {'batch_size': 256, 'dropout': 0.3, 'epochs': 20, 'init_mode': 'normal'}\n",
            "0.667940 (0.002582) with: {'batch_size': 256, 'dropout': 0.3, 'epochs': 20, 'init_mode': 'glorot_normal'}\n",
            "0.670540 (0.002721) with: {'batch_size': 256, 'dropout': 0.3, 'epochs': 20, 'init_mode': 'glorot_uniform'}\n",
            "0.670660 (0.005742) with: {'batch_size': 256, 'dropout': 0.5, 'epochs': 10, 'init_mode': 'uniform'}\n",
            "0.670820 (0.004592) with: {'batch_size': 256, 'dropout': 0.5, 'epochs': 10, 'init_mode': 'normal'}\n",
            "0.671600 (0.004195) with: {'batch_size': 256, 'dropout': 0.5, 'epochs': 10, 'init_mode': 'glorot_normal'}\n",
            "0.670860 (0.004373) with: {'batch_size': 256, 'dropout': 0.5, 'epochs': 10, 'init_mode': 'glorot_uniform'}\n",
            "0.671740 (0.001774) with: {'batch_size': 256, 'dropout': 0.5, 'epochs': 20, 'init_mode': 'uniform'}\n",
            "0.672280 (0.001602) with: {'batch_size': 256, 'dropout': 0.5, 'epochs': 20, 'init_mode': 'normal'}\n",
            "0.673340 (0.001891) with: {'batch_size': 256, 'dropout': 0.5, 'epochs': 20, 'init_mode': 'glorot_normal'}\n",
            "0.672040 (0.003681) with: {'batch_size': 256, 'dropout': 0.5, 'epochs': 20, 'init_mode': 'glorot_uniform'}\n"
          ],
          "name": "stdout"
        }
      ]
    },
    {
      "cell_type": "markdown",
      "metadata": {
        "id": "nd5mleIto7D2"
      },
      "source": [
        "**4.1.3 Model Building (Optimized Hyper-parameter)**"
      ]
    },
    {
      "cell_type": "code",
      "metadata": {
        "id": "x2AvEkoQL10K",
        "outputId": "1f1eaac0-8977-4a55-95cd-12f1b018c4bf",
        "colab": {
          "base_uri": "https://localhost:8080/",
          "height": 403
        }
      },
      "source": [
        "## Model Building\n",
        "print(\"Best: 0.673340 using {'batch_size': 256, 'dropout': 0.5, 'epochs': 20, 'init_mode': 'glorot_normal'}\")\n",
        "\n",
        "num_pixels = X.shape[1]\n",
        "def create_model(init_mode='uniform', dropout = 0.0):\n",
        "\n",
        "  model = Sequential()\n",
        "  model.add(Dense(200, input_dim=num_pixels,kernel_initializer=init_mode, activation='relu',kernel_regularizer=regularizers.l2(0.00005)))\n",
        "  model.add(Dropout(dropout))\n",
        "  model.add(Dense(100, kernel_initializer=init_mode,activation='relu',kernel_regularizer=regularizers.l2(0.00005)))\n",
        "  model.add(Dropout(dropout))\n",
        "  model.add(Dense(50, kernel_initializer=init_mode,activation='relu',kernel_regularizer=regularizers.l2(0.00005)))\n",
        "  model.add(Dropout(dropout))\n",
        "  #model.add(Dense(50, kernel_initializer='normal',activation='relu',kernel_regularizer=regularizers.l2(0.001)))\n",
        "  model.add(Dense(1, kernel_initializer=init_mode, activation='sigmoid'))\n",
        "  # Compile model\n",
        "  model.compile(loss='binary_crossentropy', optimizer='adam', metrics=['accuracy'])\n",
        "\n",
        "  return model\n",
        "\n",
        "## Model Architecture\n",
        "\n",
        "dnn_n = create_model(init_mode='glorot_normal', dropout = 0.5)\n",
        "dnn_n.summary()"
      ],
      "execution_count": 26,
      "outputs": [
        {
          "output_type": "stream",
          "text": [
            "Best: 0.673340 using {'batch_size': 256, 'dropout': 0.5, 'epochs': 20, 'init_mode': 'glorot_normal'}\n",
            "Model: \"sequential_14\"\n",
            "_________________________________________________________________\n",
            "Layer (type)                 Output Shape              Param #   \n",
            "=================================================================\n",
            "dense_56 (Dense)             (None, 200)               32200     \n",
            "_________________________________________________________________\n",
            "dropout_42 (Dropout)         (None, 200)               0         \n",
            "_________________________________________________________________\n",
            "dense_57 (Dense)             (None, 100)               20100     \n",
            "_________________________________________________________________\n",
            "dropout_43 (Dropout)         (None, 100)               0         \n",
            "_________________________________________________________________\n",
            "dense_58 (Dense)             (None, 50)                5050      \n",
            "_________________________________________________________________\n",
            "dropout_44 (Dropout)         (None, 50)                0         \n",
            "_________________________________________________________________\n",
            "dense_59 (Dense)             (None, 1)                 51        \n",
            "=================================================================\n",
            "Total params: 57,401\n",
            "Trainable params: 57,401\n",
            "Non-trainable params: 0\n",
            "_________________________________________________________________\n"
          ],
          "name": "stdout"
        }
      ]
    },
    {
      "cell_type": "markdown",
      "metadata": {
        "id": "9wH1uFI1p4Jq"
      },
      "source": [
        "**4.1.4 K-fold Cross Validation**"
      ]
    },
    {
      "cell_type": "markdown",
      "metadata": {
        "id": "lRVjhDOHqDmN"
      },
      "source": [
        "Peform K-fold cross validation to ensure the model is not biased due to random split of the dataset. The test set is set aside for the final model evaluation."
      ]
    },
    {
      "cell_type": "code",
      "metadata": {
        "id": "DsocQegtZf_Y",
        "outputId": "f4f34f74-b4e6-4624-defd-d38a86b9c17d",
        "colab": {
          "base_uri": "https://localhost:8080/",
          "height": 202
        }
      },
      "source": [
        "kfold = StratifiedKFold(n_splits=10, shuffle=True, random_state=seed)\n",
        "cvscores = []\n",
        "for train, test in kfold.split(X_train, y_train):\n",
        "    # create model\n",
        "    model = create_model(init_mode='glorot_normal', dropout = 0.5)\n",
        "    # Fit the model\n",
        "    model.fit(X_train[train], y_train[train], epochs=20, batch_size=256, verbose=0)\n",
        "    # evaluate the model\n",
        "    scores = model.evaluate(X_train[test], y_train[test], verbose=0)\n",
        "    print(\"%s: %.2f%%\" % (model.metrics_names[1], scores[1]*100))\n",
        "    cvscores.append(scores[1] * 100)\n",
        "print(\"%.2f%% (+/- %.2f%%)\" % (numpy.mean(cvscores), numpy.std(cvscores)))"
      ],
      "execution_count": 25,
      "outputs": [
        {
          "output_type": "stream",
          "text": [
            "accuracy: 68.96%\n",
            "accuracy: 69.07%\n",
            "accuracy: 69.01%\n",
            "accuracy: 68.37%\n",
            "accuracy: 69.17%\n",
            "accuracy: 68.95%\n",
            "accuracy: 68.98%\n",
            "accuracy: 68.90%\n",
            "accuracy: 69.26%\n",
            "accuracy: 68.57%\n",
            "68.92% (+/- 0.25%)\n"
          ],
          "name": "stdout"
        }
      ]
    },
    {
      "cell_type": "markdown",
      "metadata": {
        "id": "dkygHy3EpmJ7"
      },
      "source": [
        "**4.1.5 Model Training**"
      ]
    },
    {
      "cell_type": "code",
      "metadata": {
        "id": "M_PizrD5p7nh",
        "outputId": "6698f1e9-2054-45b1-f453-cc97301c1c08",
        "colab": {
          "base_uri": "https://localhost:8080/",
          "height": 706
        }
      },
      "source": [
        "## Fit the model\n",
        "history = dnn_n.fit(X_train, y_train, validation_data=(X_test, y_test), epochs=20, batch_size=256,verbose=2)\n",
        "scores = dnn_n.evaluate(X_test, y_test, verbose=0)\n",
        "print(\"Baseline Error: %.2f%%\" % (100-scores[1]*100))\n"
      ],
      "execution_count": 27,
      "outputs": [
        {
          "output_type": "stream",
          "text": [
            "Epoch 1/20\n",
            "1342/1342 - 4s - loss: 0.6433 - accuracy: 0.6530 - val_loss: 0.6247 - val_accuracy: 0.6710\n",
            "Epoch 2/20\n",
            "1342/1342 - 3s - loss: 0.6246 - accuracy: 0.6702 - val_loss: 0.6184 - val_accuracy: 0.6759\n",
            "Epoch 3/20\n",
            "1342/1342 - 3s - loss: 0.6199 - accuracy: 0.6734 - val_loss: 0.6154 - val_accuracy: 0.6768\n",
            "Epoch 4/20\n",
            "1342/1342 - 4s - loss: 0.6176 - accuracy: 0.6759 - val_loss: 0.6149 - val_accuracy: 0.6785\n",
            "Epoch 5/20\n",
            "1342/1342 - 3s - loss: 0.6158 - accuracy: 0.6775 - val_loss: 0.6116 - val_accuracy: 0.6809\n",
            "Epoch 6/20\n",
            "1342/1342 - 4s - loss: 0.6146 - accuracy: 0.6793 - val_loss: 0.6111 - val_accuracy: 0.6803\n",
            "Epoch 7/20\n",
            "1342/1342 - 4s - loss: 0.6137 - accuracy: 0.6801 - val_loss: 0.6116 - val_accuracy: 0.6824\n",
            "Epoch 8/20\n",
            "1342/1342 - 4s - loss: 0.6126 - accuracy: 0.6813 - val_loss: 0.6098 - val_accuracy: 0.6832\n",
            "Epoch 9/20\n",
            "1342/1342 - 4s - loss: 0.6124 - accuracy: 0.6813 - val_loss: 0.6097 - val_accuracy: 0.6845\n",
            "Epoch 10/20\n",
            "1342/1342 - 3s - loss: 0.6123 - accuracy: 0.6821 - val_loss: 0.6091 - val_accuracy: 0.6843\n",
            "Epoch 11/20\n",
            "1342/1342 - 4s - loss: 0.6121 - accuracy: 0.6821 - val_loss: 0.6090 - val_accuracy: 0.6860\n",
            "Epoch 12/20\n",
            "1342/1342 - 4s - loss: 0.6115 - accuracy: 0.6829 - val_loss: 0.6092 - val_accuracy: 0.6858\n",
            "Epoch 13/20\n",
            "1342/1342 - 4s - loss: 0.6115 - accuracy: 0.6837 - val_loss: 0.6081 - val_accuracy: 0.6872\n",
            "Epoch 14/20\n",
            "1342/1342 - 4s - loss: 0.6111 - accuracy: 0.6837 - val_loss: 0.6086 - val_accuracy: 0.6857\n",
            "Epoch 15/20\n",
            "1342/1342 - 4s - loss: 0.6112 - accuracy: 0.6841 - val_loss: 0.6081 - val_accuracy: 0.6875\n",
            "Epoch 16/20\n",
            "1342/1342 - 3s - loss: 0.6105 - accuracy: 0.6842 - val_loss: 0.6073 - val_accuracy: 0.6877\n",
            "Epoch 17/20\n",
            "1342/1342 - 4s - loss: 0.6106 - accuracy: 0.6839 - val_loss: 0.6070 - val_accuracy: 0.6886\n",
            "Epoch 18/20\n",
            "1342/1342 - 4s - loss: 0.6110 - accuracy: 0.6845 - val_loss: 0.6073 - val_accuracy: 0.6883\n",
            "Epoch 19/20\n",
            "1342/1342 - 3s - loss: 0.6105 - accuracy: 0.6854 - val_loss: 0.6083 - val_accuracy: 0.6869\n",
            "Epoch 20/20\n",
            "1342/1342 - 4s - loss: 0.6098 - accuracy: 0.6853 - val_loss: 0.6073 - val_accuracy: 0.6870\n",
            "Baseline Error: 31.30%\n"
          ],
          "name": "stdout"
        }
      ]
    },
    {
      "cell_type": "markdown",
      "metadata": {
        "id": "xYGYyGaCppvC"
      },
      "source": [
        "**4.1.6 Model Evaluation**"
      ]
    },
    {
      "cell_type": "code",
      "metadata": {
        "id": "o2c8Iovj7MGq",
        "outputId": "8a5df8cc-0b83-4e77-a092-04f7bde57a2b",
        "colab": {
          "base_uri": "https://localhost:8080/",
          "height": 1000
        }
      },
      "source": [
        "#assign the result to here\n",
        "result = (history)\n",
        "\n",
        "# list all data in history\n",
        "print(result.history.keys())\n",
        "# summarize history for accuracy\n",
        "plt.plot(result.history['accuracy'])\n",
        "plt.plot(result.history['val_accuracy'])\n",
        "plt.title('model accuracy')\n",
        "plt.ylabel('accuracy')\n",
        "plt.xlabel('epoch')\n",
        "plt.legend(['train', 'test'], loc='upper left')\n",
        "plt.show()\n",
        "# summarize history for loss\n",
        "plt.plot(result.history['loss'])\n",
        "plt.plot(result.history['val_loss'])\n",
        "plt.title('model loss')\n",
        "plt.ylabel('loss')\n",
        "plt.xlabel('epoch')\n",
        "plt.legend(['train', 'test'], loc='upper left')\n",
        "plt.show()\n",
        "\n",
        "# confusion matrix\n",
        "y_pred = dnn_n.predict_classes(X_test)\n",
        "\n",
        "target_names = ['Not Realized', 'Realized']\n",
        "print(classification_report(y_test, y_pred, target_names=target_names))\n",
        "\n",
        "# Compute ROC curve and ROC area for each class\n",
        "fpr, tpr, _ = roc_curve(y_test, y_pred)\n",
        "roc_auc = auc(fpr, tpr)\n",
        "\n",
        "fig = plt.figure()\n",
        "lw = 2\n",
        "plt.plot(fpr, tpr, color='darkorange', lw=lw, label='ROC curve (area = %0.2f)' % roc_auc)\n",
        "plt.plot([0, 1], [0, 1], color='navy', lw=lw, linestyle='--')\n",
        "plt.xlim([0.0, 1.0])\n",
        "plt.ylim([0.0, 1.05])\n",
        "plt.xlabel('False Positive Rate')\n",
        "plt.ylabel('True Positive Rate')\n",
        "plt.title('Receiver operating characteristic example')\n",
        "plt.legend(loc=\"lower right\")\n",
        "plt.show()"
      ],
      "execution_count": 34,
      "outputs": [
        {
          "output_type": "stream",
          "text": [
            "dict_keys(['loss', 'accuracy', 'val_loss', 'val_accuracy'])\n"
          ],
          "name": "stdout"
        },
        {
          "output_type": "display_data",
          "data": {
            "image/png": "[encoded data removed]",
            "text/plain": [
              "<Figure size 432x288 with 1 Axes>"
            ]
          },
          "metadata": {
            "tags": [],
            "needs_background": "light"
          }
        },
        {
          "output_type": "display_data",
          "data": {
            "image/png": "[encoded data removed]",
            "text/plain": [
              "<Figure size 432x288 with 1 Axes>"
            ]
          },
          "metadata": {
            "tags": [],
            "needs_background": "light"
          }
        },
        {
          "output_type": "stream",
          "text": [
            "              precision    recall  f1-score   support\n",
            "\n",
            "Not Realized       0.70      0.83      0.76     22654\n",
            "    Realized       0.66      0.48      0.55     15495\n",
            "\n",
            "    accuracy                           0.69     38149\n",
            "   macro avg       0.68      0.65      0.66     38149\n",
            "weighted avg       0.68      0.69      0.68     38149\n",
            "\n"
          ],
          "name": "stdout"
        },
        {
          "output_type": "display_data",
          "data": {
            "image/png": "[encoded data removed]",
            "text/plain": [
              "<Figure size 432x288 with 1 Axes>"
            ]
          },
          "metadata": {
            "tags": [],
            "needs_background": "light"
          }
        }
      ]
    },
    {
      "cell_type": "code",
      "metadata": {
        "id": "ZcuQoTnpfVmc",
        "outputId": "aabc4c7f-f2d4-4f10-f7e9-ab39eb01726c",
        "colab": {
          "base_uri": "https://localhost:8080/",
          "height": 84
        }
      },
      "source": [
        "##### Evaluate accuracy with different thresholds\n",
        "\n",
        "## Data processing\n",
        "Predicted_Probi = dnn_n.predict(X_test)\n",
        "Predicted_class = dnn_n.predict_classes(X_test)\n",
        "compared_result = pd.DataFrame({\"Predicted_Probi\": Predicted_Probi.reshape(len(y_test)), \"Predicted_class\": Predicted_class.reshape(len(y_test)), \"Actual_class\": y_test})\n",
        "\n",
        "## > 0.9\n",
        "compared_result_threshold = compared_result.assign(Prediction = abs(compared_result.Predicted_class - compared_result.Actual_class))[compared_result.Predicted_Probi > 0.9].groupby(\"Prediction\").count()\n",
        "realized_opp = compared_result_threshold.get(\"Predicted_Probi\")[0]\n",
        "total_opp_with_threshold = (compared_result_threshold.get(\"Predicted_Probi\")[0] + compared_result_threshold.get(\"Predicted_Probi\")[1])\n",
        "realized_rate_with_threshold = realized_opp / total_opp_with_threshold\n",
        "print(\"The number of opportunity with threshold greater than 0.9 is\",total_opp_with_threshold ,\"and the realized rate is\", realized_rate_with_threshold)\n",
        "\n",
        "## < 0.9 and > 0.8\n",
        "compared_result_threshold = compared_result.assign(Prediction = abs(compared_result.Predicted_class - compared_result.Actual_class))[(compared_result.Predicted_Probi < 0.9) & (compared_result.Predicted_Probi > 0.8)].groupby(\"Prediction\").count()\n",
        "realized_opp = compared_result_threshold.get(\"Predicted_Probi\")[0]\n",
        "total_opp_with_threshold = (compared_result_threshold.get(\"Predicted_Probi\")[0] + compared_result_threshold.get(\"Predicted_Probi\")[1])\n",
        "realized_rate_with_threshold = realized_opp / total_opp_with_threshold\n",
        "print(\"The number of opportunity with threshold >0.8 and <0.9 is\",total_opp_with_threshold ,\"and the realized rate is\", realized_rate_with_threshold)\n",
        "\n",
        "## < 0.8 and > 0.7\n",
        "compared_result_threshold = compared_result.assign(Prediction = abs(compared_result.Predicted_class - compared_result.Actual_class))[(compared_result.Predicted_Probi < 0.8) & (compared_result.Predicted_Probi > 0.7)].groupby(\"Prediction\").count()\n",
        "realized_opp = compared_result_threshold.get(\"Predicted_Probi\")[0]\n",
        "total_opp_with_threshold = (compared_result_threshold.get(\"Predicted_Probi\")[0] + compared_result_threshold.get(\"Predicted_Probi\")[1])\n",
        "realized_rate_with_threshold = realized_opp / total_opp_with_threshold\n",
        "print(\"The number of opportunity with threshold >0.7 and <0.8 is\",total_opp_with_threshold ,\"and the realized rate is\", realized_rate_with_threshold)\n",
        "\n",
        "## < 0.6 and > 0.5\n",
        "compared_result_threshold = compared_result.assign(Prediction = abs(compared_result.Predicted_class - compared_result.Actual_class))[(compared_result.Predicted_Probi < 0.6) & (compared_result.Predicted_Probi > 0.5)].groupby(\"Prediction\").count()\n",
        "realized_opp = compared_result_threshold.get(\"Predicted_Probi\")[0]\n",
        "total_opp_with_threshold = (compared_result_threshold.get(\"Predicted_Probi\")[0] + compared_result_threshold.get(\"Predicted_Probi\")[1])\n",
        "realized_rate_with_threshold = realized_opp / total_opp_with_threshold\n",
        "print(\"The number of opportunity with threshold >0.6 and <0.7 is\",total_opp_with_threshold ,\"and the realized rate is\", realized_rate_with_threshold)"
      ],
      "execution_count": null,
      "outputs": [
        {
          "output_type": "stream",
          "text": [
            "The number of opportunity with threshold greater than 0.9 is 118 and the realized rate is 0.9322033898305084\n",
            "The number of opportunity with threshold >0.8 and <0.9 is 703 and the realized rate is 0.829302987197724\n",
            "The number of opportunity with threshold >0.7 and <0.8 is 2583 and the realized rate is 0.7611304684475416\n",
            "The number of opportunity with threshold >0.6 and <0.7 is 3942 and the realized rate is 0.5461694571283613\n"
          ],
          "name": "stdout"
        }
      ]
    },
    {
      "cell_type": "markdown",
      "metadata": {
        "id": "TlxRYGHP5Jh-"
      },
      "source": [
        "**4.2 Naive Bayes Model**"
      ]
    },
    {
      "cell_type": "code",
      "metadata": {
        "id": "lHgwHmrV2M6p",
        "outputId": "5ba098d8-aa06-4672-fe81-411f7485a5fb",
        "colab": {
          "base_uri": "https://localhost:8080/",
          "height": 34
        }
      },
      "source": [
        "from sklearn.naive_bayes import GaussianNB\n",
        "from sklearn.metrics import accuracy_score\n",
        "\n",
        "#create a naive bayes classifier\n",
        "model_naive =GaussianNB()\n",
        "model_naive.fit(X_train, y_train)\n",
        "y_pred_naive_grade = model_naive.predict(X_test)\n",
        "\n",
        "#calculate the accuracy\n",
        "accuracy_score(y_test, y_pred_naive_grade)"
      ],
      "execution_count": null,
      "outputs": [
        {
          "output_type": "execute_result",
          "data": {
            "text/plain": [
              "0.6210909853469292"
            ]
          },
          "metadata": {
            "tags": []
          },
          "execution_count": 4
        }
      ]
    },
    {
      "cell_type": "markdown",
      "metadata": {
        "id": "JV7QOv2rjigi"
      },
      "source": [
        "**4.3 decision tree model**"
      ]
    },
    {
      "cell_type": "code",
      "metadata": {
        "id": "6rkIq12Ujg-t",
        "outputId": "6820cbc9-8b83-4655-bdda-df599d919e85",
        "colab": {
          "base_uri": "https://localhost:8080/",
          "height": 34
        }
      },
      "source": [
        "from sklearn import tree\n",
        "clf = tree.DecisionTreeClassifier(max_depth=40,min_samples_leaf=100)\n",
        "clf = clf.fit(X_train, y_train)\n",
        "y_pred_tree = clf.predict(X_test)\n",
        "y_pred_tree_prob = clf.predict_proba(X_test)\n",
        "\n",
        "y_pred_tree_prob.shape\n",
        "#calculate the accuracy\n",
        "accuracy_score(y_test, y_pred_tree)"
      ],
      "execution_count": null,
      "outputs": [
        {
          "output_type": "execute_result",
          "data": {
            "text/plain": [
              "0.6847885920993997"
            ]
          },
          "metadata": {
            "tags": []
          },
          "execution_count": 5
        }
      ]
    },
    {
      "cell_type": "markdown",
      "metadata": {
        "id": "bBExOUgqtDiU"
      },
      "source": [
        "**4.4 logistic regression model**"
      ]
    },
    {
      "cell_type": "code",
      "metadata": {
        "id": "NgdPYIyUpH9K",
        "outputId": "73a1ad3d-6deb-44f5-e6b6-b88dd3f219d0",
        "colab": {
          "base_uri": "https://localhost:8080/",
          "height": 88
        }
      },
      "source": [
        "from sklearn.linear_model import LogisticRegression\n",
        "clf = LogisticRegression(random_state=0).fit(X_train, y_train)\n",
        "clf.predict_proba(X_test) \n",
        "y_pred_logistic = clf.predict(X_test)\n",
        "\n",
        "#calculate the accuracy\n",
        "accuracy_score(y_test, y_pred_logistic)"
      ],
      "execution_count": null,
      "outputs": [
        {
          "output_type": "stream",
          "text": [
            "/usr/local/lib/python3.6/dist-packages/sklearn/linear_model/logistic.py:433: FutureWarning: Default solver will be changed to 'lbfgs' in 0.22. Specify a solver to silence this warning.\n",
            "  FutureWarning)\n"
          ],
          "name": "stderr"
        },
        {
          "output_type": "execute_result",
          "data": {
            "text/plain": [
              "0.6597289575087159"
            ]
          },
          "metadata": {
            "tags": []
          },
          "execution_count": 13
        }
      ]
    }
  ]
}