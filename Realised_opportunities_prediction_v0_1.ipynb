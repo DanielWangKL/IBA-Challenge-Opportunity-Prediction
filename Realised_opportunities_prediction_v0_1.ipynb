{
  "nbformat": 4,
  "nbformat_minor": 0,
  "metadata": {
    "colab": {
      "name": "Realised_opportunities_prediction_v0.1.ipynb",
      "provenance": [],
      "collapsed_sections": []
    },
    "kernelspec": {
      "name": "python3",
      "display_name": "Python 3"
    }
  },
  "cells": [
    {
      "cell_type": "markdown",
      "metadata": {
        "id": "ngr14gjJKKAU"
      },
      "source": [
        "\n",
        "\n",
        "# **1.   Configuration**\n",
        "\n"
      ]
    },
    {
      "cell_type": "code",
      "metadata": {
        "id": "3LlSUC1Iy7VJ",
        "outputId": "7ba69bd9-c19f-4bd1-b7a9-c92b9bb55f4c",
        "colab": {
          "base_uri": "https://localhost:8080/",
          "height": 34
        }
      },
      "source": [
        "from google.colab import drive\n",
        "drive.mount('/content/gdrive')"
      ],
      "execution_count": null,
      "outputs": [
        {
          "output_type": "stream",
          "text": [
            "Mounted at /content/gdrive\n"
          ],
          "name": "stdout"
        }
      ]
    },
    {
      "cell_type": "code",
      "metadata": {
        "id": "9c4VDg-Jyw4u"
      },
      "source": [
        "import numpy\n",
        "from keras.datasets import mnist\n",
        "from keras.models import Sequential\n",
        "from keras.layers import Dense\n",
        "from keras.layers import Dropout\n",
        "from keras.utils import np_utils\n",
        "import pandas as pd\n",
        "from sklearn.preprocessing import LabelEncoder\n",
        "from sklearn.model_selection import train_test_split\n",
        "from sklearn.preprocessing import MinMaxScaler\n",
        "import seaborn as sns\n",
        "import matplotlib.pyplot as plt\n",
        "import numpy as np\n",
        "\n",
        "# fix random seed for reproducibility\n",
        "seed = 7\n",
        "numpy.random.seed(seed)\n",
        "\n",
        "# load data\n",
        "opportunities = pd.read_csv('/content/gdrive/My Drive/HKUST_Fintech_Course_Data/opportunities_table_for_prediction_v3.csv', engine='python')\n",
        "opportunities = opportunities.iloc[:,2:]"
      ],
      "execution_count": null,
      "outputs": []
    },
    {
      "cell_type": "code",
      "metadata": {
        "id": "qD9az59XsP_F"
      },
      "source": [
        "#reverse engineer the country mapping table\n",
        "#opportunities[['name_entity', 'Region']].groupby(['name_entity', 'Region']).size().to_csv('/content/gdrive/My Drive/HKUST_Fintech_Course_Data/countries_mapping.csv')"
      ],
      "execution_count": null,
      "outputs": []
    },
    {
      "cell_type": "markdown",
      "metadata": {
        "id": "RY0h-DmVKnh2"
      },
      "source": [
        "# **2. Data Profiling**"
      ]
    },
    {
      "cell_type": "markdown",
      "metadata": {
        "id": "4y5w9oMDUIXH"
      },
      "source": [
        "##### **2.1 Data Profiling - Overall Data**"
      ]
    },
    {
      "cell_type": "code",
      "metadata": {
        "id": "SITJQn0yKZns",
        "outputId": "e5a30411-f979-4296-cde4-1b8806d5ffc2",
        "colab": {
          "base_uri": "https://localhost:8080/",
          "height": 714
        }
      },
      "source": [
        "##Quick overview of the data\n",
        "opportunities.info()"
      ],
      "execution_count": null,
      "outputs": [
        {
          "output_type": "stream",
          "text": [
            "<class 'pandas.core.frame.DataFrame'>\n",
            "RangeIndex: 381484 entries, 0 to 381483\n",
            "Data columns (total 34 columns):\n",
            " #   Column                          Non-Null Count   Dtype  \n",
            "---  ------                          --------------   -----  \n",
            " 0   opportunity_id                  381484 non-null  int64  \n",
            " 1   created_at                      381484 non-null  object \n",
            " 2   applications_close_date         90789 non-null   object \n",
            " 3   openings                        381484 non-null  int64  \n",
            " 4   earliest_start_date             381484 non-null  object \n",
            " 5   latest_end_date                 381458 non-null  object \n",
            " 6   duration_min                    381484 non-null  int64  \n",
            " 7   programme_id                    381484 non-null  object \n",
            " 8   name_region                     381484 non-null  object \n",
            " 9   name_entity                     381484 non-null  object \n",
            " 10  favourites_count                381484 non-null  int64  \n",
            " 11  opportunity_applications_count  381484 non-null  int64  \n",
            " 12  status                          381484 non-null  object \n",
            " 13  month_created                   381484 non-null  object \n",
            " 14  year_created                    381484 non-null  object \n",
            " 15  background_p_count              381484 non-null  int64  \n",
            " 16  skill_r_count                   381484 non-null  int64  \n",
            " 17  skill_p_count                   381484 non-null  int64  \n",
            " 18  language_r_count                381484 non-null  int64  \n",
            " 19  language_p_count                381484 non-null  int64  \n",
            " 20  new_status                      153880 non-null  object \n",
            " 21  realized                        381484 non-null  bool   \n",
            " 22  created_month                   381484 non-null  int64  \n",
            " 23  open_window                     381484 non-null  float64\n",
            " 24  flexibility                     381484 non-null  float64\n",
            " 25  start_month                     381484 non-null  int64  \n",
            " 26  Region                          381484 non-null  object \n",
            " 27  Arts                            381484 non-null  float64\n",
            " 28  Business                        381484 non-null  float64\n",
            " 29  Engineering                     381484 non-null  float64\n",
            " 30  Humanity                        381484 non-null  float64\n",
            " 31  Other                           381484 non-null  float64\n",
            " 32  Politics                        381484 non-null  float64\n",
            " 33  Science                         381484 non-null  float64\n",
            "dtypes: bool(1), float64(9), int64(12), object(12)\n",
            "memory usage: 96.4+ MB\n"
          ],
          "name": "stdout"
        }
      ]
    },
    {
      "cell_type": "code",
      "metadata": {
        "id": "xtRjD2kITy1I",
        "outputId": "80cbf3df-fd8c-4b93-bcad-9e8953a12cae",
        "colab": {
          "base_uri": "https://localhost:8080/",
          "height": 326
        }
      },
      "source": [
        "##Quick overview of the actual data\n",
        "opportunities.head()"
      ],
      "execution_count": null,
      "outputs": [
        {
          "output_type": "execute_result",
          "data": {
            "text/html": [
              "<div>\n",
              "<style scoped>\n",
              "    .dataframe tbody tr th:only-of-type {\n",
              "        vertical-align: middle;\n",
              "    }\n",
              "\n",
              "    .dataframe tbody tr th {\n",
              "        vertical-align: top;\n",
              "    }\n",
              "\n",
              "    .dataframe thead th {\n",
              "        text-align: right;\n",
              "    }\n",
              "</style>\n",
              "<table border=\"1\" class=\"dataframe\">\n",
              "  <thead>\n",
              "    <tr style=\"text-align: right;\">\n",
              "      <th></th>\n",
              "      <th>opportunity_id</th>\n",
              "      <th>created_at</th>\n",
              "      <th>applications_close_date</th>\n",
              "      <th>openings</th>\n",
              "      <th>earliest_start_date</th>\n",
              "      <th>latest_end_date</th>\n",
              "      <th>duration_min</th>\n",
              "      <th>programme_id</th>\n",
              "      <th>name_region</th>\n",
              "      <th>name_entity</th>\n",
              "      <th>favourites_count</th>\n",
              "      <th>opportunity_applications_count</th>\n",
              "      <th>status</th>\n",
              "      <th>month_created</th>\n",
              "      <th>year_created</th>\n",
              "      <th>background_p_count</th>\n",
              "      <th>skill_r_count</th>\n",
              "      <th>skill_p_count</th>\n",
              "      <th>language_r_count</th>\n",
              "      <th>language_p_count</th>\n",
              "      <th>new_status</th>\n",
              "      <th>realized</th>\n",
              "      <th>created_month</th>\n",
              "      <th>open_window</th>\n",
              "      <th>flexibility</th>\n",
              "      <th>start_month</th>\n",
              "      <th>Region</th>\n",
              "      <th>Arts</th>\n",
              "      <th>Business</th>\n",
              "      <th>Engineering</th>\n",
              "      <th>Humanity</th>\n",
              "      <th>Other</th>\n",
              "      <th>Politics</th>\n",
              "      <th>Science</th>\n",
              "    </tr>\n",
              "  </thead>\n",
              "  <tbody>\n",
              "    <tr>\n",
              "      <th>0</th>\n",
              "      <td>290499</td>\n",
              "      <td>2014-11-05</td>\n",
              "      <td>2015-03-30</td>\n",
              "      <td>1</td>\n",
              "      <td>2015-02-01</td>\n",
              "      <td>2015-07-31</td>\n",
              "      <td>20</td>\n",
              "      <td>Global Talent</td>\n",
              "      <td>Americas</td>\n",
              "      <td>Peru</td>\n",
              "      <td>0</td>\n",
              "      <td>3</td>\n",
              "      <td>open</td>\n",
              "      <td>2014-11-01</td>\n",
              "      <td>2014-01-01</td>\n",
              "      <td>0</td>\n",
              "      <td>4</td>\n",
              "      <td>3</td>\n",
              "      <td>2</td>\n",
              "      <td>0</td>\n",
              "      <td>realized</td>\n",
              "      <td>1</td>\n",
              "      <td>11</td>\n",
              "      <td>145.0</td>\n",
              "      <td>180.0</td>\n",
              "      <td>2</td>\n",
              "      <td>South America</td>\n",
              "      <td>1.0</td>\n",
              "      <td>0.0</td>\n",
              "      <td>0.0</td>\n",
              "      <td>0.0</td>\n",
              "      <td>0.0</td>\n",
              "      <td>0.0</td>\n",
              "      <td>0.0</td>\n",
              "    </tr>\n",
              "    <tr>\n",
              "      <th>1</th>\n",
              "      <td>290500</td>\n",
              "      <td>2014-11-05</td>\n",
              "      <td>2015-06-15</td>\n",
              "      <td>1</td>\n",
              "      <td>2014-12-15</td>\n",
              "      <td>2015-06-15</td>\n",
              "      <td>20</td>\n",
              "      <td>Global Talent</td>\n",
              "      <td>Asia Pacific</td>\n",
              "      <td>India</td>\n",
              "      <td>0</td>\n",
              "      <td>4</td>\n",
              "      <td>open</td>\n",
              "      <td>2014-11-01</td>\n",
              "      <td>2014-01-01</td>\n",
              "      <td>1</td>\n",
              "      <td>7</td>\n",
              "      <td>1</td>\n",
              "      <td>1</td>\n",
              "      <td>0</td>\n",
              "      <td>realized</td>\n",
              "      <td>1</td>\n",
              "      <td>11</td>\n",
              "      <td>222.0</td>\n",
              "      <td>182.0</td>\n",
              "      <td>12</td>\n",
              "      <td>South-central Asia</td>\n",
              "      <td>0.0</td>\n",
              "      <td>1.0</td>\n",
              "      <td>0.0</td>\n",
              "      <td>0.0</td>\n",
              "      <td>0.0</td>\n",
              "      <td>0.0</td>\n",
              "      <td>0.0</td>\n",
              "    </tr>\n",
              "    <tr>\n",
              "      <th>2</th>\n",
              "      <td>290502</td>\n",
              "      <td>2014-11-17</td>\n",
              "      <td>2015-01-01</td>\n",
              "      <td>1</td>\n",
              "      <td>2014-11-17</td>\n",
              "      <td>2015-11-17</td>\n",
              "      <td>50</td>\n",
              "      <td>Global Talent</td>\n",
              "      <td>AIESEC INTERNATIONAL</td>\n",
              "      <td>Asia Pacific</td>\n",
              "      <td>0</td>\n",
              "      <td>4</td>\n",
              "      <td>open</td>\n",
              "      <td>2014-11-01</td>\n",
              "      <td>2014-01-01</td>\n",
              "      <td>0</td>\n",
              "      <td>5</td>\n",
              "      <td>3</td>\n",
              "      <td>1</td>\n",
              "      <td>0</td>\n",
              "      <td>NaN</td>\n",
              "      <td>0</td>\n",
              "      <td>11</td>\n",
              "      <td>45.0</td>\n",
              "      <td>365.0</td>\n",
              "      <td>11</td>\n",
              "      <td>Asia Pacific</td>\n",
              "      <td>0.0</td>\n",
              "      <td>0.0</td>\n",
              "      <td>1.0</td>\n",
              "      <td>0.0</td>\n",
              "      <td>0.0</td>\n",
              "      <td>0.0</td>\n",
              "      <td>0.0</td>\n",
              "    </tr>\n",
              "    <tr>\n",
              "      <th>3</th>\n",
              "      <td>290503</td>\n",
              "      <td>2014-11-05</td>\n",
              "      <td>2014-12-31</td>\n",
              "      <td>1</td>\n",
              "      <td>2015-01-01</td>\n",
              "      <td>2015-07-31</td>\n",
              "      <td>24</td>\n",
              "      <td>Global Talent</td>\n",
              "      <td>AIESEC INTERNATIONAL</td>\n",
              "      <td>Asia Pacific</td>\n",
              "      <td>0</td>\n",
              "      <td>19</td>\n",
              "      <td>open</td>\n",
              "      <td>2014-11-01</td>\n",
              "      <td>2014-01-01</td>\n",
              "      <td>1</td>\n",
              "      <td>2</td>\n",
              "      <td>1</td>\n",
              "      <td>1</td>\n",
              "      <td>0</td>\n",
              "      <td>realized</td>\n",
              "      <td>1</td>\n",
              "      <td>11</td>\n",
              "      <td>56.0</td>\n",
              "      <td>211.0</td>\n",
              "      <td>1</td>\n",
              "      <td>Asia Pacific</td>\n",
              "      <td>0.0</td>\n",
              "      <td>1.0</td>\n",
              "      <td>0.0</td>\n",
              "      <td>0.0</td>\n",
              "      <td>0.0</td>\n",
              "      <td>0.0</td>\n",
              "      <td>0.0</td>\n",
              "    </tr>\n",
              "    <tr>\n",
              "      <th>4</th>\n",
              "      <td>290505</td>\n",
              "      <td>2015-01-05</td>\n",
              "      <td>2016-01-01</td>\n",
              "      <td>1</td>\n",
              "      <td>2015-05-12</td>\n",
              "      <td>2016-01-27</td>\n",
              "      <td>6</td>\n",
              "      <td>Global Volunteer</td>\n",
              "      <td>Americas</td>\n",
              "      <td>Costa Rica</td>\n",
              "      <td>9</td>\n",
              "      <td>7</td>\n",
              "      <td>open</td>\n",
              "      <td>2015-01-01</td>\n",
              "      <td>2015-01-01</td>\n",
              "      <td>1</td>\n",
              "      <td>3</td>\n",
              "      <td>1</td>\n",
              "      <td>1</td>\n",
              "      <td>3</td>\n",
              "      <td>realized</td>\n",
              "      <td>1</td>\n",
              "      <td>1</td>\n",
              "      <td>361.0</td>\n",
              "      <td>260.0</td>\n",
              "      <td>5</td>\n",
              "      <td>Central America</td>\n",
              "      <td>0.0</td>\n",
              "      <td>1.0</td>\n",
              "      <td>0.0</td>\n",
              "      <td>0.0</td>\n",
              "      <td>0.0</td>\n",
              "      <td>0.0</td>\n",
              "      <td>0.0</td>\n",
              "    </tr>\n",
              "  </tbody>\n",
              "</table>\n",
              "</div>"
            ],
            "text/plain": [
              "   opportunity_id  created_at applications_close_date  ...  Other Politics Science\n",
              "0          290499  2014-11-05              2015-03-30  ...    0.0      0.0     0.0\n",
              "1          290500  2014-11-05              2015-06-15  ...    0.0      0.0     0.0\n",
              "2          290502  2014-11-17              2015-01-01  ...    0.0      0.0     0.0\n",
              "3          290503  2014-11-05              2014-12-31  ...    0.0      0.0     0.0\n",
              "4          290505  2015-01-05              2016-01-01  ...    0.0      0.0     0.0\n",
              "\n",
              "[5 rows x 34 columns]"
            ]
          },
          "metadata": {
            "tags": []
          },
          "execution_count": 4
        }
      ]
    },
    {
      "cell_type": "code",
      "metadata": {
        "id": "Y4vOqceeIGa0",
        "outputId": "c003a503-b314-40f0-8eeb-63d4ac079016",
        "colab": {
          "base_uri": "https://localhost:8080/",
          "height": 317
        }
      },
      "source": [
        "##Quick overiew of the basic statistics of the data\n",
        "opportunities.realized = opportunities.realized.astype('int')\n",
        "opportunities.describe()"
      ],
      "execution_count": null,
      "outputs": [
        {
          "output_type": "execute_result",
          "data": {
            "text/html": [
              "<div>\n",
              "<style scoped>\n",
              "    .dataframe tbody tr th:only-of-type {\n",
              "        vertical-align: middle;\n",
              "    }\n",
              "\n",
              "    .dataframe tbody tr th {\n",
              "        vertical-align: top;\n",
              "    }\n",
              "\n",
              "    .dataframe thead th {\n",
              "        text-align: right;\n",
              "    }\n",
              "</style>\n",
              "<table border=\"1\" class=\"dataframe\">\n",
              "  <thead>\n",
              "    <tr style=\"text-align: right;\">\n",
              "      <th></th>\n",
              "      <th>opportunity_id</th>\n",
              "      <th>openings</th>\n",
              "      <th>duration_min</th>\n",
              "      <th>favourites_count</th>\n",
              "      <th>opportunity_applications_count</th>\n",
              "      <th>background_p_count</th>\n",
              "      <th>skill_r_count</th>\n",
              "      <th>skill_p_count</th>\n",
              "      <th>language_r_count</th>\n",
              "      <th>language_p_count</th>\n",
              "      <th>realized</th>\n",
              "      <th>created_month</th>\n",
              "      <th>open_window</th>\n",
              "      <th>flexibility</th>\n",
              "      <th>start_month</th>\n",
              "      <th>Arts</th>\n",
              "      <th>Business</th>\n",
              "      <th>Engineering</th>\n",
              "      <th>Humanity</th>\n",
              "      <th>Other</th>\n",
              "      <th>Politics</th>\n",
              "      <th>Science</th>\n",
              "    </tr>\n",
              "  </thead>\n",
              "  <tbody>\n",
              "    <tr>\n",
              "      <th>count</th>\n",
              "      <td>381484.000000</td>\n",
              "      <td>381484.000000</td>\n",
              "      <td>381484.00000</td>\n",
              "      <td>381484.000000</td>\n",
              "      <td>381484.000000</td>\n",
              "      <td>381484.000000</td>\n",
              "      <td>381484.000000</td>\n",
              "      <td>381484.000000</td>\n",
              "      <td>381484.000000</td>\n",
              "      <td>381484.000000</td>\n",
              "      <td>381484.000000</td>\n",
              "      <td>381484.000000</td>\n",
              "      <td>381484.000000</td>\n",
              "      <td>381484.000000</td>\n",
              "      <td>381484.000000</td>\n",
              "      <td>381484.000000</td>\n",
              "      <td>381484.000000</td>\n",
              "      <td>381484.000000</td>\n",
              "      <td>381484.000000</td>\n",
              "      <td>381484.000000</td>\n",
              "      <td>381484.000000</td>\n",
              "      <td>381484.000000</td>\n",
              "    </tr>\n",
              "    <tr>\n",
              "      <th>mean</th>\n",
              "      <td>520723.429090</td>\n",
              "      <td>1.890344</td>\n",
              "      <td>12.30947</td>\n",
              "      <td>1.628191</td>\n",
              "      <td>7.238526</td>\n",
              "      <td>1.150242</td>\n",
              "      <td>2.410437</td>\n",
              "      <td>2.962947</td>\n",
              "      <td>0.911865</td>\n",
              "      <td>0.715760</td>\n",
              "      <td>0.403372</td>\n",
              "      <td>6.499581</td>\n",
              "      <td>155.430255</td>\n",
              "      <td>157.004313</td>\n",
              "      <td>6.275133</td>\n",
              "      <td>0.126123</td>\n",
              "      <td>0.182296</td>\n",
              "      <td>0.045462</td>\n",
              "      <td>0.007964</td>\n",
              "      <td>0.056023</td>\n",
              "      <td>0.000849</td>\n",
              "      <td>0.004276</td>\n",
              "    </tr>\n",
              "    <tr>\n",
              "      <th>std</th>\n",
              "      <td>155806.937544</td>\n",
              "      <td>3.372766</td>\n",
              "      <td>13.71868</td>\n",
              "      <td>8.354226</td>\n",
              "      <td>32.190732</td>\n",
              "      <td>0.822548</td>\n",
              "      <td>2.325688</td>\n",
              "      <td>2.503923</td>\n",
              "      <td>0.672084</td>\n",
              "      <td>1.101138</td>\n",
              "      <td>0.490575</td>\n",
              "      <td>3.319524</td>\n",
              "      <td>61.628123</td>\n",
              "      <td>154.677986</td>\n",
              "      <td>3.314781</td>\n",
              "      <td>0.323906</td>\n",
              "      <td>0.378767</td>\n",
              "      <td>0.204816</td>\n",
              "      <td>0.083058</td>\n",
              "      <td>0.217634</td>\n",
              "      <td>0.026095</td>\n",
              "      <td>0.059930</td>\n",
              "    </tr>\n",
              "    <tr>\n",
              "      <th>min</th>\n",
              "      <td>290499.000000</td>\n",
              "      <td>0.000000</td>\n",
              "      <td>-6.00000</td>\n",
              "      <td>0.000000</td>\n",
              "      <td>0.000000</td>\n",
              "      <td>0.000000</td>\n",
              "      <td>0.000000</td>\n",
              "      <td>0.000000</td>\n",
              "      <td>0.000000</td>\n",
              "      <td>0.000000</td>\n",
              "      <td>0.000000</td>\n",
              "      <td>1.000000</td>\n",
              "      <td>6.000000</td>\n",
              "      <td>1.000000</td>\n",
              "      <td>1.000000</td>\n",
              "      <td>0.000000</td>\n",
              "      <td>0.000000</td>\n",
              "      <td>0.000000</td>\n",
              "      <td>0.000000</td>\n",
              "      <td>0.000000</td>\n",
              "      <td>0.000000</td>\n",
              "      <td>0.000000</td>\n",
              "    </tr>\n",
              "    <tr>\n",
              "      <th>25%</th>\n",
              "      <td>397761.750000</td>\n",
              "      <td>1.000000</td>\n",
              "      <td>6.00000</td>\n",
              "      <td>0.000000</td>\n",
              "      <td>0.000000</td>\n",
              "      <td>1.000000</td>\n",
              "      <td>0.000000</td>\n",
              "      <td>1.000000</td>\n",
              "      <td>1.000000</td>\n",
              "      <td>0.000000</td>\n",
              "      <td>0.000000</td>\n",
              "      <td>4.000000</td>\n",
              "      <td>159.396836</td>\n",
              "      <td>49.000000</td>\n",
              "      <td>4.000000</td>\n",
              "      <td>0.000000</td>\n",
              "      <td>0.000000</td>\n",
              "      <td>0.000000</td>\n",
              "      <td>0.000000</td>\n",
              "      <td>0.000000</td>\n",
              "      <td>0.000000</td>\n",
              "      <td>0.000000</td>\n",
              "    </tr>\n",
              "    <tr>\n",
              "      <th>50%</th>\n",
              "      <td>497087.500000</td>\n",
              "      <td>1.000000</td>\n",
              "      <td>6.00000</td>\n",
              "      <td>0.000000</td>\n",
              "      <td>1.000000</td>\n",
              "      <td>1.000000</td>\n",
              "      <td>2.000000</td>\n",
              "      <td>2.000000</td>\n",
              "      <td>1.000000</td>\n",
              "      <td>0.000000</td>\n",
              "      <td>0.000000</td>\n",
              "      <td>6.000000</td>\n",
              "      <td>159.396836</td>\n",
              "      <td>78.000000</td>\n",
              "      <td>6.000000</td>\n",
              "      <td>0.000000</td>\n",
              "      <td>0.000000</td>\n",
              "      <td>0.000000</td>\n",
              "      <td>0.000000</td>\n",
              "      <td>0.000000</td>\n",
              "      <td>0.000000</td>\n",
              "      <td>0.000000</td>\n",
              "    </tr>\n",
              "    <tr>\n",
              "      <th>75%</th>\n",
              "      <td>597490.250000</td>\n",
              "      <td>1.000000</td>\n",
              "      <td>12.00000</td>\n",
              "      <td>0.000000</td>\n",
              "      <td>1.000000</td>\n",
              "      <td>2.000000</td>\n",
              "      <td>4.000000</td>\n",
              "      <td>4.000000</td>\n",
              "      <td>1.000000</td>\n",
              "      <td>1.000000</td>\n",
              "      <td>1.000000</td>\n",
              "      <td>9.000000</td>\n",
              "      <td>159.396836</td>\n",
              "      <td>212.000000</td>\n",
              "      <td>9.000000</td>\n",
              "      <td>0.000000</td>\n",
              "      <td>0.000000</td>\n",
              "      <td>0.000000</td>\n",
              "      <td>0.000000</td>\n",
              "      <td>0.000000</td>\n",
              "      <td>0.000000</td>\n",
              "      <td>0.000000</td>\n",
              "    </tr>\n",
              "    <tr>\n",
              "      <th>max</th>\n",
              "      <td>893776.000000</td>\n",
              "      <td>29.000000</td>\n",
              "      <td>78.00000</td>\n",
              "      <td>531.000000</td>\n",
              "      <td>2281.000000</td>\n",
              "      <td>10.000000</td>\n",
              "      <td>10.000000</td>\n",
              "      <td>10.000000</td>\n",
              "      <td>10.000000</td>\n",
              "      <td>10.000000</td>\n",
              "      <td>1.000000</td>\n",
              "      <td>12.000000</td>\n",
              "      <td>625.000000</td>\n",
              "      <td>1095.000000</td>\n",
              "      <td>12.000000</td>\n",
              "      <td>1.000000</td>\n",
              "      <td>1.000000</td>\n",
              "      <td>1.000000</td>\n",
              "      <td>1.000000</td>\n",
              "      <td>1.000000</td>\n",
              "      <td>1.000000</td>\n",
              "      <td>1.000000</td>\n",
              "    </tr>\n",
              "  </tbody>\n",
              "</table>\n",
              "</div>"
            ],
            "text/plain": [
              "       opportunity_id       openings  ...       Politics        Science\n",
              "count   381484.000000  381484.000000  ...  381484.000000  381484.000000\n",
              "mean    520723.429090       1.890344  ...       0.000849       0.004276\n",
              "std     155806.937544       3.372766  ...       0.026095       0.059930\n",
              "min     290499.000000       0.000000  ...       0.000000       0.000000\n",
              "25%     397761.750000       1.000000  ...       0.000000       0.000000\n",
              "50%     497087.500000       1.000000  ...       0.000000       0.000000\n",
              "75%     597490.250000       1.000000  ...       0.000000       0.000000\n",
              "max     893776.000000      29.000000  ...       1.000000       1.000000\n",
              "\n",
              "[8 rows x 22 columns]"
            ]
          },
          "metadata": {
            "tags": []
          },
          "execution_count": 3
        }
      ]
    },
    {
      "cell_type": "markdown",
      "metadata": {
        "id": "8zS8YJc4Uj-9"
      },
      "source": [
        "##### **2.1 Data Profiling - Target Variable**"
      ]
    },
    {
      "cell_type": "code",
      "metadata": {
        "id": "fSeG8502xTS1",
        "outputId": "13f0073f-5052-4c0e-b16d-f350f38c5e6f",
        "colab": {
          "base_uri": "https://localhost:8080/",
          "height": 51
        }
      },
      "source": [
        "##The distribution of the target variable\n",
        "Realized_opp = opportunities.groupby('realized')['opportunity_id'].nunique().loc[True]\n",
        "Not_realized_opp = opportunities.groupby('realized')['opportunity_id'].nunique().loc[False]\n",
        "\n",
        "print('The realization rate is ', round(Realized_opp/(Realized_opp+Not_realized_opp),3))\n",
        "print('The baseline using majority classifer is ', round(Not_realized_opp/(Realized_opp+Not_realized_opp),3))"
      ],
      "execution_count": null,
      "outputs": [
        {
          "output_type": "stream",
          "text": [
            "The realization rate is  0.403\n",
            "The baseline using majority classifer is  0.597\n"
          ],
          "name": "stdout"
        }
      ]
    },
    {
      "cell_type": "code",
      "metadata": {
        "id": "iQFNDE29N287",
        "outputId": "20517395-8524-45d8-eafd-dba93bce709e",
        "colab": {
          "base_uri": "https://localhost:8080/",
          "height": 408
        }
      },
      "source": [
        "##Correlation against the target variable\n",
        "opportunities.corr()['realized'].sort_values(ascending = False)"
      ],
      "execution_count": null,
      "outputs": [
        {
          "output_type": "execute_result",
          "data": {
            "text/plain": [
              "realized                          1.000000\n",
              "opportunity_applications_count    0.086392\n",
              "favourites_count                  0.077387\n",
              "Arts                              0.051803\n",
              "open_window                       0.041259\n",
              "Other                             0.024518\n",
              "background_p_count                0.015446\n",
              "language_p_count                  0.015106\n",
              "Humanity                          0.009168\n",
              "language_r_count                  0.008230\n",
              "Politics                          0.007128\n",
              "Science                           0.002954\n",
              "skill_r_count                    -0.011309\n",
              "skill_p_count                    -0.014728\n",
              "Business                         -0.023705\n",
              "start_month                      -0.025533\n",
              "created_month                    -0.031847\n",
              "openings                         -0.033402\n",
              "Engineering                      -0.054813\n",
              "duration_min                     -0.061490\n",
              "opportunity_id                   -0.078686\n",
              "flexibility                      -0.123820\n",
              "Name: realized, dtype: float64"
            ]
          },
          "metadata": {
            "tags": []
          },
          "execution_count": 4
        }
      ]
    },
    {
      "cell_type": "code",
      "metadata": {
        "id": "LWY4PqmpGvWQ",
        "outputId": "cf8753aa-0b37-4162-b2e8-9424fb964359",
        "colab": {
          "base_uri": "https://localhost:8080/",
          "height": 701
        }
      },
      "source": [
        "##Correlation map to see how features are correlated with the target variable\n",
        "\n",
        "corrmat = opportunities.corr()\n",
        "plt.subplots(figsize=(12,9))\n",
        "sns.heatmap(corrmat, vmax=0.9, square=True)"
      ],
      "execution_count": null,
      "outputs": [
        {
          "output_type": "execute_result",
          "data": {
            "text/plain": [
              "<matplotlib.axes._subplots.AxesSubplot at 0x7f44cc5cc208>"
            ]
          },
          "metadata": {
            "tags": []
          },
          "execution_count": 14
        },
        {
          "output_type": "display_data",
          "data": {
            "image/png": "[encoded data removed]",
            "text/plain": [
              "<Figure size 864x648 with 2 Axes>"
            ]
          },
          "metadata": {
            "tags": [],
            "needs_background": "light"
          }
        }
      ]
    },
    {
      "cell_type": "code",
      "metadata": {
        "id": "X0scn7pNOpwC",
        "outputId": "a51fb4c3-18ab-4019-b98c-96fbd454a973",
        "colab": {
          "base_uri": "https://localhost:8080/",
          "height": 1000
        }
      },
      "source": [
        "#plot chosen categorical variables against the target variable\n",
        "barchart_variable = ['programme_id', 'Region', 'start_month']\n",
        "target_variable = 'realized'\n",
        "\n",
        "#fig, axes = plt.subplots(nrows=np.ceil(len(boxplot_variable)/4), ncols=4)\n",
        "for index, i in enumerate(barchart_variable, start = 0):\n",
        "    print(opportunities.groupby([i,target_variable]).count()['opportunity_id'])\n",
        "    sns.set()\n",
        "    fig, ax = plt.subplots(figsize = (20,13))\n",
        "    ax = sns.countplot(x = i, hue = target_variable, data = opportunities)\n",
        "    ax.tick_params(labelsize=5)\n",
        "    #opportunities.boxplot(column = [target_variable], by = [i], ax = axes[])"
      ],
      "execution_count": null,
      "outputs": [
        {
          "output_type": "stream",
          "text": [
            "programme_id         realized\n",
            "Global Entrepreneur  0             5705\n",
            "                     1             1915\n",
            "Global Talent        0            90885\n",
            "                     1            41413\n",
            "Global Volunteer     0           131014\n",
            "                     1           110552\n",
            "Name: opportunity_id, dtype: int64\n",
            "Region                     realized\n",
            "Asia Pacific               0            3538\n",
            "                           1            1664\n",
            "Australia and New Zealand  0             410\n",
            "                           1             317\n",
            "Caribbean                  0             132\n",
            "                           1              55\n",
            "Central America            0            3775\n",
            "                           1            5240\n",
            "Central Asia               0             510\n",
            "                           1             376\n",
            "Eastern Africa             0            7152\n",
            "                           1            5295\n",
            "Eastern Asia               0           19055\n",
            "                           1           11583\n",
            "Eastern Europe             0           32134\n",
            "                           1           25204\n",
            "Europe                     0            5534\n",
            "                           1            2671\n",
            "Middle Africa              0            1352\n",
            "                           1             428\n",
            "Middle East and Africa     0            3759\n",
            "                           1            1770\n",
            "Northern Africa            0           23880\n",
            "                           1            8445\n",
            "Northern America           0            3900\n",
            "                           1            2815\n",
            "Northern Europe            0            3068\n",
            "                           1            2064\n",
            "South America              0           18928\n",
            "                           1           25098\n",
            "South-central Asia         0           57229\n",
            "                           1           21482\n",
            "South-eastern Asia         0           10343\n",
            "                           1           13317\n",
            "Southern Africa            0             471\n",
            "                           1             280\n",
            "Southern Europe            0            7743\n",
            "                           1            8843\n",
            "Western Africa             0            5374\n",
            "                           1            3425\n",
            "Western Asia               0            8577\n",
            "                           1            8485\n",
            "Western Europe             0           10740\n",
            "                           1            5023\n",
            "Name: opportunity_id, dtype: int64\n",
            "start_month  realized\n",
            "1            0           24583\n",
            "             1           18291\n",
            "2            0           16172\n",
            "             1           10347\n",
            "3            0           15142\n",
            "             1            8028\n",
            "4            0           13781\n",
            "             1            7510\n",
            "5            0           18470\n",
            "             1           12812\n",
            "6            0           28950\n",
            "             1           26647\n",
            "7            0           28044\n",
            "             1           23884\n",
            "8            0           16418\n",
            "             1           10186\n",
            "9            0           18146\n",
            "             1            9312\n",
            "10           0           14451\n",
            "             1            6950\n",
            "11           0           16282\n",
            "             1            8213\n",
            "12           0           17165\n",
            "             1           11700\n",
            "Name: opportunity_id, dtype: int64\n"
          ],
          "name": "stdout"
        },
        {
          "output_type": "display_data",
          "data": {
            "image/png": "[encoded data removed]",
            "text/plain": [
              "<Figure size 1440x936 with 1 Axes>"
            ]
          },
          "metadata": {
            "tags": []
          }
        },
        {
          "output_type": "display_data",
          "data": {
            "image/png": "[encoded data removed]",
            "text/plain": [
              "<Figure size 1440x936 with 1 Axes>"
            ]
          },
          "metadata": {
            "tags": []
          }
        },
        {
          "output_type": "display_data",
          "data": {
            "image/png": "[encoded data removed]",
            "text/plain": [
              "<Figure size 1440x936 with 1 Axes>"
            ]
          },
          "metadata": {
            "tags": []
          }
        }
      ]
    },
    {
      "cell_type": "markdown",
      "metadata": {
        "id": "pSCtCz52WOg6"
      },
      "source": [
        "**Observation**\n",
        "\n",
        "For programme_id, we observe that global volunteer program has the highest realization rate.\n",
        "\n",
        "For Region, South America, Central America, Southern Europe and South-eastern Asia have higher realized opportunities than not realized opportunities. This indicates the flavor of the participants.\n",
        "\n",
        "For start_month, opportunities that started at Dec, Jan, June and July have a higher realization rate. This might be due to the winter and summer holidays."
      ]
    },
    {
      "cell_type": "markdown",
      "metadata": {
        "id": "Vc8G9Lpz1753"
      },
      "source": [
        "# **3. Data Processing for ML**"
      ]
    },
    {
      "cell_type": "code",
      "metadata": {
        "id": "KH8pT7zUNoJ8"
      },
      "source": [
        "## select out the important features\n",
        "opportunities_cleaned = opportunities[['realized', 'start_month', 'programme_id', 'name_entity', 'duration_min', 'Arts', 'Business', 'Engineering', 'Humanity', 'Other', 'Politics', 'Science', 'background_p_count', 'skill_r_count', 'skill_p_count', 'language_r_count', 'language_p_count','open_window','flexibility','openings']]"
      ],
      "execution_count": null,
      "outputs": []
    },
    {
      "cell_type": "markdown",
      "metadata": {
        "id": "FX6QqI77YNps"
      },
      "source": [
        "**Rationale of variables selection**\n",
        "\n",
        "**t0 data**\n",
        "\n",
        "The first rationale would be using variables at t0. As we would like provide the output score for marketing team to prioritise the opportunities, we would like to select the variables which would only appear upon opportunity creation. Therefore, \"favourites_count\" and \"opportunity_applications_count\" will be excluded.\n",
        "\n",
        "**Time Variable**\n",
        "\n",
        "As we would like to predict based on the inner attributes of the opportunity, we will exclude the time related variables. Yet, start_month will be maintained as this shows the seasonality of favorites and will be treated as a categorical variable."
      ]
    },
    {
      "cell_type": "code",
      "metadata": {
        "id": "lykx52FVtsic",
        "outputId": "db408f32-a22a-437e-9ce5-38097d6aee14",
        "colab": {
          "base_uri": "https://localhost:8080/",
          "height": 51
        }
      },
      "source": [
        "## one-hot encoding\n",
        "opportunities_cleaned_one_hot = pd.get_dummies(opportunities_cleaned, columns=['programme_id', 'name_entity', 'start_month'])\n",
        "\n",
        "## normalize the dataset\n",
        "dataset = opportunities_cleaned_one_hot.values\n",
        "dataset = dataset.astype('float32')\n",
        "scaler = MinMaxScaler(feature_range=(0, 1))\n",
        "dataset = scaler.fit_transform(dataset)\n",
        "\n",
        "## split X and y\n",
        "X = dataset[:,1:]\n",
        "y = dataset[:,0]\n",
        "\n",
        "## split to training and testing set\n",
        "X_train, X_test, y_train, y_test = train_test_split(X, y, test_size=0.1, random_state=7)\n",
        "\n",
        "## change data type\n",
        "X_train = X_train.astype('float32')\n",
        "y_train = y_train.astype('float32')\n",
        "X_test = X_test.astype('float32')\n",
        "y_test = y_test.astype('float32')\n",
        "\n",
        "## evaluate the shape of data\n",
        "print(X_train.shape, y_train.shape)\n",
        "print(X_test.shape, y_test.shape)"
      ],
      "execution_count": null,
      "outputs": [
        {
          "output_type": "stream",
          "text": [
            "(343335, 160) (343335,)\n",
            "(38149, 160) (38149,)\n"
          ],
          "name": "stdout"
        }
      ]
    },
    {
      "cell_type": "code",
      "metadata": {
        "id": "1lQj7MfL0yHo",
        "outputId": "54c091a3-62a3-4ea8-e742-e3e94528eef4",
        "colab": {
          "base_uri": "https://localhost:8080/",
          "height": 221
        }
      },
      "source": [
        "## evaluate the correlation against target variable after one-hot encoding\n",
        "opportunities_cleaned_one_hot.corr()[\"realized\"].sort_values(ascending=False)"
      ],
      "execution_count": null,
      "outputs": [
        {
          "output_type": "execute_result",
          "data": {
            "text/plain": [
              "realized                         1.000000\n",
              "programme_id_Global Volunteer    0.145371\n",
              "name_entity_Brazil               0.078199\n",
              "name_entity_Argentina            0.071525\n",
              "start_month_6                    0.063918\n",
              "                                   ...   \n",
              "duration_min                    -0.061490\n",
              "name_entity_Egypt               -0.108029\n",
              "flexibility                     -0.123820\n",
              "programme_id_Global Talent      -0.134187\n",
              "name_entity_India               -0.145362\n",
              "Name: realized, Length: 161, dtype: float64"
            ]
          },
          "metadata": {
            "tags": []
          },
          "execution_count": 20
        }
      ]
    },
    {
      "cell_type": "markdown",
      "metadata": {
        "id": "VnpOiLmdaTFl"
      },
      "source": [
        "# **4. Modelling and Evaluation**"
      ]
    },
    {
      "cell_type": "markdown",
      "metadata": {
        "id": "T5GpFKqEaYiA"
      },
      "source": [
        "4 models will be used for the prediction. (Multi-layer perceptron, Naive Bayes, Decision Tree and Logistics Regression)"
      ]
    },
    {
      "cell_type": "markdown",
      "metadata": {
        "id": "nOLDBD9hjPv0"
      },
      "source": [
        "**4.1 Multi-layer Perceptron (Deep Learning)**"
      ]
    },
    {
      "cell_type": "code",
      "metadata": {
        "id": "WWLTXedr1GJv",
        "outputId": "190d78a1-8607-4908-b8ed-a78521f9ead5",
        "colab": {
          "base_uri": "https://localhost:8080/",
          "height": 391
        }
      },
      "source": [
        "from keras import regularizers\n",
        "from keras.layers import Dropout\n",
        "num_pixels = X.shape[1]\n",
        "def base_model():\n",
        "\n",
        "  model = Sequential()\n",
        "  model.add(Dense(200, input_dim=num_pixels,kernel_initializer='normal', activation='relu',kernel_regularizer=regularizers.l2(0.00005)))\n",
        "  model.add(Dropout(0.25))\n",
        "  model.add(Dense(100, kernel_initializer='normal',activation='relu',kernel_regularizer=regularizers.l2(0.00005)))\n",
        "  model.add(Dropout(0.25))\n",
        "  model.add(Dense(50, kernel_initializer='normal',activation='relu',kernel_regularizer=regularizers.l2(0.00005)))\n",
        "  model.add(Dropout(0.25))\n",
        "  #model.add(Dense(50, kernel_initializer='normal',activation='relu',kernel_regularizer=regularizers.l2(0.001)))\n",
        "  model.add(Dense(1, kernel_initializer='normal', activation='sigmoid'))\n",
        "  # Compile model\n",
        "  model.compile(loss='binary_crossentropy', optimizer='adam', metrics=['accuracy'])\n",
        "\n",
        "  return model\n",
        "  \n",
        "dnn_n = base_model()\n",
        "dnn_n.summary()"
      ],
      "execution_count": null,
      "outputs": [
        {
          "output_type": "stream",
          "text": [
            "Model: \"sequential_1\"\n",
            "_________________________________________________________________\n",
            "Layer (type)                 Output Shape              Param #   \n",
            "=================================================================\n",
            "dense_4 (Dense)              (None, 200)               32200     \n",
            "_________________________________________________________________\n",
            "dropout_3 (Dropout)          (None, 200)               0         \n",
            "_________________________________________________________________\n",
            "dense_5 (Dense)              (None, 100)               20100     \n",
            "_________________________________________________________________\n",
            "dropout_4 (Dropout)          (None, 100)               0         \n",
            "_________________________________________________________________\n",
            "dense_6 (Dense)              (None, 50)                5050      \n",
            "_________________________________________________________________\n",
            "dropout_5 (Dropout)          (None, 50)                0         \n",
            "_________________________________________________________________\n",
            "dense_7 (Dense)              (None, 1)                 51        \n",
            "=================================================================\n",
            "Total params: 57,401\n",
            "Trainable params: 57,401\n",
            "Non-trainable params: 0\n",
            "_________________________________________________________________\n"
          ],
          "name": "stdout"
        }
      ]
    },
    {
      "cell_type": "code",
      "metadata": {
        "id": "M_PizrD5p7nh",
        "outputId": "379bff11-e579-4254-d234-b192775a7996",
        "colab": {
          "base_uri": "https://localhost:8080/",
          "height": 884
        }
      },
      "source": [
        "import numpy\n",
        "from keras.callbacks import Callback\n",
        "from sklearn.metrics import f1_score, precision_score, recall_score\n",
        "\n",
        "# Fit the model\n",
        "history = dnn_n.fit(X_train, y_train, validation_data=(X_test, y_test), epochs=25, batch_size=128,verbose=2)\n",
        "scores = dnn_n.evaluate(X_test, y_test, verbose=0)\n",
        "print(\"Baseline Error: %.2f%%\" % (100-scores[1]*100))\n"
      ],
      "execution_count": null,
      "outputs": [
        {
          "output_type": "stream",
          "text": [
            "Epoch 1/25\n",
            "2683/2683 - 9s - loss: 0.6233 - accuracy: 0.6664 - val_loss: 0.6182 - val_accuracy: 0.6715\n",
            "Epoch 2/25\n",
            "2683/2683 - 9s - loss: 0.6147 - accuracy: 0.6761 - val_loss: 0.6146 - val_accuracy: 0.6787\n",
            "Epoch 3/25\n",
            "2683/2683 - 9s - loss: 0.6121 - accuracy: 0.6791 - val_loss: 0.6134 - val_accuracy: 0.6794\n",
            "Epoch 4/25\n",
            "2683/2683 - 9s - loss: 0.6103 - accuracy: 0.6815 - val_loss: 0.6112 - val_accuracy: 0.6798\n",
            "Epoch 5/25\n",
            "2683/2683 - 9s - loss: 0.6085 - accuracy: 0.6830 - val_loss: 0.6092 - val_accuracy: 0.6845\n",
            "Epoch 6/25\n",
            "2683/2683 - 9s - loss: 0.6077 - accuracy: 0.6853 - val_loss: 0.6108 - val_accuracy: 0.6812\n",
            "Epoch 7/25\n",
            "2683/2683 - 9s - loss: 0.6067 - accuracy: 0.6866 - val_loss: 0.6073 - val_accuracy: 0.6862\n",
            "Epoch 8/25\n",
            "2683/2683 - 9s - loss: 0.6061 - accuracy: 0.6871 - val_loss: 0.6081 - val_accuracy: 0.6861\n",
            "Epoch 9/25\n",
            "2683/2683 - 9s - loss: 0.6049 - accuracy: 0.6881 - val_loss: 0.6052 - val_accuracy: 0.6869\n",
            "Epoch 10/25\n",
            "2683/2683 - 9s - loss: 0.6047 - accuracy: 0.6882 - val_loss: 0.6065 - val_accuracy: 0.6885\n",
            "Epoch 11/25\n",
            "2683/2683 - 9s - loss: 0.6042 - accuracy: 0.6894 - val_loss: 0.6052 - val_accuracy: 0.6886\n",
            "Epoch 12/25\n",
            "2683/2683 - 9s - loss: 0.6038 - accuracy: 0.6899 - val_loss: 0.6067 - val_accuracy: 0.6858\n",
            "Epoch 13/25\n",
            "2683/2683 - 9s - loss: 0.6037 - accuracy: 0.6893 - val_loss: 0.6058 - val_accuracy: 0.6870\n",
            "Epoch 14/25\n",
            "2683/2683 - 9s - loss: 0.6037 - accuracy: 0.6897 - val_loss: 0.6053 - val_accuracy: 0.6893\n",
            "Epoch 15/25\n",
            "2683/2683 - 9s - loss: 0.6030 - accuracy: 0.6902 - val_loss: 0.6059 - val_accuracy: 0.6887\n",
            "Epoch 16/25\n",
            "2683/2683 - 9s - loss: 0.6028 - accuracy: 0.6900 - val_loss: 0.6083 - val_accuracy: 0.6878\n",
            "Epoch 17/25\n",
            "2683/2683 - 9s - loss: 0.6028 - accuracy: 0.6914 - val_loss: 0.6078 - val_accuracy: 0.6880\n",
            "Epoch 18/25\n",
            "2683/2683 - 9s - loss: 0.6028 - accuracy: 0.6908 - val_loss: 0.6046 - val_accuracy: 0.6898\n",
            "Epoch 19/25\n",
            "2683/2683 - 9s - loss: 0.6022 - accuracy: 0.6916 - val_loss: 0.6051 - val_accuracy: 0.6904\n",
            "Epoch 20/25\n",
            "2683/2683 - 9s - loss: 0.6020 - accuracy: 0.6918 - val_loss: 0.6035 - val_accuracy: 0.6916\n",
            "Epoch 21/25\n",
            "2683/2683 - 9s - loss: 0.6018 - accuracy: 0.6917 - val_loss: 0.6062 - val_accuracy: 0.6909\n",
            "Epoch 22/25\n",
            "2683/2683 - 9s - loss: 0.6020 - accuracy: 0.6925 - val_loss: 0.6048 - val_accuracy: 0.6900\n",
            "Epoch 23/25\n",
            "2683/2683 - 9s - loss: 0.6020 - accuracy: 0.6919 - val_loss: 0.6055 - val_accuracy: 0.6890\n",
            "Epoch 24/25\n",
            "2683/2683 - 9s - loss: 0.6015 - accuracy: 0.6934 - val_loss: 0.6049 - val_accuracy: 0.6886\n",
            "Epoch 25/25\n",
            "2683/2683 - 9s - loss: 0.6018 - accuracy: 0.6923 - val_loss: 0.6053 - val_accuracy: 0.6895\n",
            "Baseline Error: 31.05%\n"
          ],
          "name": "stdout"
        }
      ]
    },
    {
      "cell_type": "code",
      "metadata": {
        "id": "o2c8Iovj7MGq",
        "outputId": "dd726ffe-8005-4443-e44a-268ddd923948",
        "colab": {
          "base_uri": "https://localhost:8080/",
          "height": 602
        }
      },
      "source": [
        "import matplotlib.pyplot as plt\n",
        "\n",
        "#assign the result to here\n",
        "result = (history)\n",
        "\n",
        "# list all data in history\n",
        "print(result.history.keys())\n",
        "# summarize history for accuracy\n",
        "plt.plot(result.history['accuracy'][0:13])\n",
        "plt.plot(result.history['val_accuracy'][0:13])\n",
        "plt.title('model accuracy')\n",
        "plt.ylabel('accuracy')\n",
        "plt.xlabel('epoch')\n",
        "plt.legend(['train', 'test'], loc='upper left')\n",
        "plt.show()\n",
        "# summarize history for loss\n",
        "plt.plot(result.history['loss'][0:13])\n",
        "plt.plot(result.history['val_loss'][0:13])\n",
        "plt.title('model loss')\n",
        "plt.ylabel('loss')\n",
        "plt.xlabel('epoch')\n",
        "plt.legend(['train', 'test'], loc='upper left')\n",
        "plt.show()"
      ],
      "execution_count": null,
      "outputs": [
        {
          "output_type": "stream",
          "text": [
            "dict_keys(['loss', 'accuracy', 'val_loss', 'val_accuracy'])\n"
          ],
          "name": "stdout"
        },
        {
          "output_type": "display_data",
          "data": {
            "image/png": "[encoded data removed]",
            "text/plain": [
              "<Figure size 432x288 with 1 Axes>"
            ]
          },
          "metadata": {
            "tags": []
          }
        },
        {
          "output_type": "display_data",
          "data": {
            "image/png": "[encoded data removed]",
            "text/plain": [
              "<Figure size 432x288 with 1 Axes>"
            ]
          },
          "metadata": {
            "tags": []
          }
        }
      ]
    },
    {
      "cell_type": "code",
      "metadata": {
        "id": "ZcuQoTnpfVmc",
        "outputId": "e95357bd-fbf1-46ed-9098-69aac73d7930",
        "colab": {
          "base_uri": "https://localhost:8080/",
          "height": 85
        }
      },
      "source": [
        "## > 0.9\n",
        "compared_result_threshold = compared_result.assign(Prediction = abs(compared_result.Predicted_class - compared_result.Actual_class))[compared_result.Predicted_Probi > 0.9].groupby(\"Prediction\").count()\n",
        "realized_opp = compared_result_threshold.get(\"Predicted_Probi\")[0]\n",
        "total_opp_with_threshold = (compared_result_threshold.get(\"Predicted_Probi\")[0] + compared_result_threshold.get(\"Predicted_Probi\")[1])\n",
        "realized_rate_with_threshold = realized_opp / total_opp_with_threshold\n",
        "print(\"The number of opportunity with threshold greater than 0.9 is\",total_opp_with_threshold ,\"and the realized rate is\", realized_rate_with_threshold)\n",
        "\n",
        "## < 0.9 and > 0.8\n",
        "compared_result_threshold = compared_result.assign(Prediction = abs(compared_result.Predicted_class - compared_result.Actual_class))[(compared_result.Predicted_Probi < 0.9) & (compared_result.Predicted_Probi > 0.8)].groupby(\"Prediction\").count()\n",
        "realized_opp = compared_result_threshold.get(\"Predicted_Probi\")[0]\n",
        "total_opp_with_threshold = (compared_result_threshold.get(\"Predicted_Probi\")[0] + compared_result_threshold.get(\"Predicted_Probi\")[1])\n",
        "realized_rate_with_threshold = realized_opp / total_opp_with_threshold\n",
        "print(\"The number of opportunity with threshold >0.8 and <0.9 is\",total_opp_with_threshold ,\"and the realized rate is\", realized_rate_with_threshold)\n",
        "\n",
        "## < 0.8 and > 0.7\n",
        "compared_result_threshold = compared_result.assign(Prediction = abs(compared_result.Predicted_class - compared_result.Actual_class))[(compared_result.Predicted_Probi < 0.8) & (compared_result.Predicted_Probi > 0.7)].groupby(\"Prediction\").count()\n",
        "realized_opp = compared_result_threshold.get(\"Predicted_Probi\")[0]\n",
        "total_opp_with_threshold = (compared_result_threshold.get(\"Predicted_Probi\")[0] + compared_result_threshold.get(\"Predicted_Probi\")[1])\n",
        "realized_rate_with_threshold = realized_opp / total_opp_with_threshold\n",
        "print(\"The number of opportunity with threshold >0.7 and <0.8 is\",total_opp_with_threshold ,\"and the realized rate is\", realized_rate_with_threshold)\n",
        "\n",
        "## < 0.6 and > 0.5\n",
        "compared_result_threshold = compared_result.assign(Prediction = abs(compared_result.Predicted_class - compared_result.Actual_class))[(compared_result.Predicted_Probi < 0.6) & (compared_result.Predicted_Probi > 0.5)].groupby(\"Prediction\").count()\n",
        "realized_opp = compared_result_threshold.get(\"Predicted_Probi\")[0]\n",
        "total_opp_with_threshold = (compared_result_threshold.get(\"Predicted_Probi\")[0] + compared_result_threshold.get(\"Predicted_Probi\")[1])\n",
        "realized_rate_with_threshold = realized_opp / total_opp_with_threshold\n",
        "print(\"The number of opportunity with threshold >0.6 and <0.7 is\",total_opp_with_threshold ,\"and the realized rate is\", realized_rate_with_threshold)"
      ],
      "execution_count": null,
      "outputs": [
        {
          "output_type": "stream",
          "text": [
            "The number of opportunity with threshold greater than 0.9 is 115 and the realized rate is 0.9217391304347826\n",
            "The number of opportunity with threshold >0.8 and <0.9 is 561 and the realized rate is 0.8342245989304813\n",
            "The number of opportunity with threshold >0.7 and <0.8 is 2465 and the realized rate is 0.7683569979716024\n",
            "The number of opportunity with threshold >0.6 and <0.7 is 3893 and the realized rate is 0.5630619059851014\n"
          ],
          "name": "stdout"
        }
      ]
    },
    {
      "cell_type": "markdown",
      "metadata": {
        "id": "TlxRYGHP5Jh-"
      },
      "source": [
        "**4.2 Naive Bayes Model**"
      ]
    },
    {
      "cell_type": "code",
      "metadata": {
        "id": "lHgwHmrV2M6p",
        "outputId": "5ba098d8-aa06-4672-fe81-411f7485a5fb",
        "colab": {
          "base_uri": "https://localhost:8080/",
          "height": 34
        }
      },
      "source": [
        "from sklearn.naive_bayes import GaussianNB\n",
        "from sklearn.metrics import accuracy_score\n",
        "\n",
        "#create a naive bayes classifier\n",
        "model_naive =GaussianNB()\n",
        "model_naive.fit(X_train, y_train)\n",
        "y_pred_naive_grade = model_naive.predict(X_test)\n",
        "\n",
        "#calculate the accuracy\n",
        "accuracy_score(y_test, y_pred_naive_grade)"
      ],
      "execution_count": null,
      "outputs": [
        {
          "output_type": "execute_result",
          "data": {
            "text/plain": [
              "0.6210909853469292"
            ]
          },
          "metadata": {
            "tags": []
          },
          "execution_count": 4
        }
      ]
    },
    {
      "cell_type": "markdown",
      "metadata": {
        "id": "JV7QOv2rjigi"
      },
      "source": [
        "**4.3 decision tree model**"
      ]
    },
    {
      "cell_type": "code",
      "metadata": {
        "id": "6rkIq12Ujg-t",
        "outputId": "6820cbc9-8b83-4655-bdda-df599d919e85",
        "colab": {
          "base_uri": "https://localhost:8080/",
          "height": 34
        }
      },
      "source": [
        "from sklearn import tree\n",
        "clf = tree.DecisionTreeClassifier(max_depth=40,min_samples_leaf=100)\n",
        "clf = clf.fit(X_train, y_train)\n",
        "y_pred_tree = clf.predict(X_test)\n",
        "y_pred_tree_prob = clf.predict_proba(X_test)\n",
        "\n",
        "y_pred_tree_prob.shape\n",
        "#calculate the accuracy\n",
        "accuracy_score(y_test, y_pred_tree)"
      ],
      "execution_count": null,
      "outputs": [
        {
          "output_type": "execute_result",
          "data": {
            "text/plain": [
              "0.6847885920993997"
            ]
          },
          "metadata": {
            "tags": []
          },
          "execution_count": 5
        }
      ]
    },
    {
      "cell_type": "markdown",
      "metadata": {
        "id": "bBExOUgqtDiU"
      },
      "source": [
        "**4.4 logistic regression model**"
      ]
    },
    {
      "cell_type": "code",
      "metadata": {
        "id": "NgdPYIyUpH9K",
        "outputId": "73a1ad3d-6deb-44f5-e6b6-b88dd3f219d0",
        "colab": {
          "base_uri": "https://localhost:8080/",
          "height": 88
        }
      },
      "source": [
        "from sklearn.linear_model import LogisticRegression\n",
        "clf = LogisticRegression(random_state=0).fit(X_train, y_train)\n",
        "clf.predict_proba(X_test) \n",
        "y_pred_logistic = clf.predict(X_test)\n",
        "\n",
        "#calculate the accuracy\n",
        "accuracy_score(y_test, y_pred_logistic)"
      ],
      "execution_count": null,
      "outputs": [
        {
          "output_type": "stream",
          "text": [
            "/usr/local/lib/python3.6/dist-packages/sklearn/linear_model/logistic.py:433: FutureWarning: Default solver will be changed to 'lbfgs' in 0.22. Specify a solver to silence this warning.\n",
            "  FutureWarning)\n"
          ],
          "name": "stderr"
        },
        {
          "output_type": "execute_result",
          "data": {
            "text/plain": [
              "0.6597289575087159"
            ]
          },
          "metadata": {
            "tags": []
          },
          "execution_count": 13
        }
      ]
    }
  ]
}